{
 "cells": [
  {
   "cell_type": "markdown",
   "metadata": {
    "tags": [
     "remove_cell"
    ]
   },
   "source": [
    "# Solving linear systems of equations using HHL and its Qiskit implementation"
   ]
  },
  {
   "cell_type": "markdown",
   "metadata": {},
   "source": [
    "In this tutorial, we introduce the HHL algorithm, derive the circuit, and implement it using Qiskit. We show how to run the HHL on a simulator and on a five qubit device."
   ]
  },
  {
   "cell_type": "markdown",
   "metadata": {
    "tags": [
     "contents"
    ]
   },
   "source": [
    "## Contents\n",
    "1. [Introduction](#introduction)\n",
    "2. [The HHL algorithm](#hhlalg)\n",
    "    1. [Some mathematical background](#mathbackground)\n",
    "    2. [Description of the HHL](#hhldescription)\n",
    "    3. [Quantum Phase Estimation (QPE) within HHL](#qpe)\n",
    "    4. [Non-exact QPE](#qpe2)\n",
    "3. [Example 1: 4-qubit HHL](#example1)\n",
    "4. [Qiskit Implementation](#implementation)\n",
    "    1. [Running HHL on a simulator: general method](#implementationsim)\n",
    "    2. [Running HHL on a real quantum device: optimised example](#implementationdev)\n",
    "5. [Problems](#problems)\n",
    "6. [References](#references)"
   ]
  },
  {
   "cell_type": "markdown",
   "metadata": {},
   "source": [
    "## 1. Introduction <a id='introduction'></a>\n",
    "\n",
    "We see systems of linear equations in many real-life applications across a wide range of areas. Examples include the solution of Partial Differential Equations, the calibration of financial models, fluid simulation or numerical field calculation. The problem can be defined as, given a matrix $A\\in\\mathbb{C}^{N\\times N}$ and a vector $\\vec{b}\\in\\mathbb{C}^{N}$, find $\\vec{x}\\in\\mathbb{C}^{N}$ satisfying $A\\vec{x}=\\vec{b}$\n",
    "\n",
    "For example, take $N=2$, \n",
    "\n",
    "$$A = \\begin{pmatrix}1 & -1/3\\\\-1/3 & 1 \\end{pmatrix},\\quad \\vec{x}=\\begin{pmatrix} x_{1}\\\\ x_{2}\\end{pmatrix}\\quad \\text{and} \\quad \\vec{b}=\\begin{pmatrix}1 \\\\ 0\\end{pmatrix}$$\n",
    "\n",
    "Then the problem can also be written as find $x_{1}, x_{2}\\in\\mathbb{C}$ such that\n",
    "$$\\begin{cases}x_{1} - \\frac{x_{2}}{3} = 1 \\\\ -\\frac{x_{1}}{3} + x_{2} = 0\\end{cases} $$\n",
    "\n",
    "A system of linear equations is called $s$-sparse if $A$ has at most $s$ non-zero entries per row or column. Solving an $s$-sparse system of size $N$ with a classical computer requires $\\mathcal{ O }(Ns\\kappa\\log(1/\\epsilon))$ running time using the conjugate gradient method <sup>[1](#conjgrad)</sup>. Here $\\kappa$ denotes the condition number of the system and $\\epsilon$ the accuracy of the approximation.\n",
    "\n",
    "The HHL algorithm estimates a function of the solution with running time complexity of $\\mathcal{ O }(\\log(N)s^{2}\\kappa^{2}/\\epsilon)$<sup>[2](#hhl)</sup>. The matrix $A$ must be Hermitian, and we assume we have efficient oracles for loading the data, Hamiltonian simulation, and computing a function of the solution. This is an exponential speed up in the size of the system, with the catch that HHL can only approximate functions of the solution vector, while the classical algorithm returns the full solution."
   ]
  },
  {
   "cell_type": "markdown",
   "metadata": {},
   "source": [
    "## 2. The HHL algorithm<a id='hhlalg'></a>\n",
    "\n",
    "### A. Some mathematical background<a id='mathbackground'></a>\n",
    "The first step towards solving a system of linear equations with a quantum computer is to encode the problem in the quantum language. By rescaling the system, we can assume $\\vec{b}$ and $\\vec{x}$ to be normalised and map them to the respective quantum states $|b\\rangle$ and $|x\\rangle$. Usually the mapping used is such that $i^{th}$ component of $\\vec{b}$ (resp. $\\vec{x}$) corresponds to the amplitude of the $i^{th}$ basis state of the quantum state $|b\\rangle$ (resp. $|x\\rangle$). From now on, we will focus on the rescaled problem\n",
    "\n",
    "$$ A|x\\rangle=|b\\rangle$$\n",
    "\n",
    "Since $A$ is Hermitian, it has a spectral decomposition\n",
    "$$\n",
    "A=\\sum_{j=0}^{N-1}\\lambda_{j}|u_{j}\\rangle\\langle u_{j}|,\\quad \\lambda_{j}\\in\\mathbb{ R }\n",
    "$$\n",
    "where $|u_{j}\\rangle$ is the $j^{th}$ eigenvector of $A$ with respective eigenvalue $\\lambda_{j}$. Then,\n",
    "$$\n",
    "A^{-1}=\\sum_{j=0}^{N-1}\\lambda_{j}^{-1}|u_{j}\\rangle\\langle u_{j}|\n",
    "$$\n",
    "and the right hand side of the system can be written in the eigenbasis of $A$ as\n",
    "$$\n",
    "|b\\rangle=\\sum_{j=0}^{N-1}b_{j}|u_{j}\\rangle,\\quad b_{j}\\in\\mathbb{ C }\n",
    "$$\n",
    "It is useful to keep in mind that the goal of the HHL is to exit the algorithm with the readout register in the state\n",
    "$$\n",
    "|x\\rangle=A^{-1}|b\\rangle=\\sum_{j=0}^{N-1}\\lambda_{j}^{-1}b_{j}|u_{j}\\rangle\n",
    "$$\n",
    "Note that here we already have an implicit normalisation constant since we are talking about a quantum state."
   ]
  },
  {
   "cell_type": "markdown",
   "metadata": {},
   "source": [
    "### B. Description of the HHL algorithm <a id='hhldescription'></a>\n",
    "\n",
    "The algorithm uses three quantum registers, all set to $|0\\rangle $ at the beginning of the algorithm. One register, which we will denote with the subindex $n_{l}$, is used to store a binary representation of the eigenvalues of $A$. A second register, denoted by $n_{b}$, contains the vector solution, and from now on $N=2^{n_{b}}$. There is an extra register for auxiliary qubits, used for intermediate steps in the computation. We can ignore any auxiliary in the following description as they are $|0\\rangle $ at the beginning of each computation, and are restored back to $|0\\rangle $ at the end of each individual operation.\n",
    "\n",
    "The following is an outline of the HHL algorithm with a high-level drawing of the corresponding circuit. For simplicity all computations are assumed to be exact in the ensuing description, and a more detailed explanation of the non-exact case is given in Section [2.D.](#qpe2).\n",
    "\n",
    "<img src=\"images/hhlcircuit.png\" width = \"75%\" height = \"75%\">\n",
    "\n",
    "<!-- vale QiskitTextbook.Spelling = NO -->\n",
    "\n",
    "1.  Load the data $|b\\rangle\\in\\mathbb{ C }^{N}$. That is, perform the transformation\n",
    "    $$ |0\\rangle _{n_{b}} \\mapsto |b\\rangle _{n_{b}} $$\n",
    "2. Apply Quantum Phase Estimation (QPE) with\n",
    "    $$ U = e ^ { i A t } := \\sum _{j=0}^{N-1}e ^ { i \\lambda _ { j } t } |u_{j}\\rangle\\langle u_{j}| $$\n",
    "\tThe quantum state of the register expressed in the eigenbasis of $A$ is now\n",
    "    $$ \\sum_{j=0}^{N-1} b _ { j } |\\lambda _ {j }\\rangle_{n_{l}} |u_{j}\\rangle_{n_{b}} $$\n",
    "    where $ |\\lambda _ {j }\\rangle_{n_{l}}$ is the $n_{l}$-bit binary representation of $\\lambda _ {j }$.\n",
    "    \n",
    "3. Add an auxiliary qubit and apply a rotation conditioned on $|\\lambda_{ j }\\rangle$,\n",
    "    $$ \\sum_{j=0}^{N-1} b _ { j } |\\lambda _ { j }\\rangle_{n_{l}}|u_{j}\\rangle_{n_{b}} \\left( \\sqrt { 1 - \\frac { C^{2}  } { \\lambda _ { j } ^ { 2 } } } |0\\rangle + \\frac { C } { \\lambda _ { j } } |1\\rangle \\right) $$\n",
    "\twhere $C$ is a normalisation constant, and, as expressed in the current form above, should be less than the smallest eigenvalue $\\lambda_{min}$ in magnitude, i.e., $|C| < \\lambda_{min}$.\n",
    "    \n",
    "4. Apply the inverse of QPE. Ignoring possible errors from QPE, this results in\n",
    "    $$ \\sum_{j=0}^{N-1} b _ { j } |0\\rangle_{n_{l}}|u_{j}\\rangle_{n_{b}} \\left( \\sqrt { 1 - \\frac {C^{2}  } { \\lambda _ { j } ^ { 2 } } } |0\\rangle + \\frac { C } { \\lambda _ { j } } |1\\rangle \\right) $$\n",
    "    \n",
    "5. Measure the auxiliary qubit in the computational basis. If the outcome is $1$, the register is in the post-measurement state\n",
    "    $$ \\left( \\sqrt { \\frac { 1 } { \\sum_{j=0}^{N-1} \\left| b _ { j } \\right| ^ { 2 } / \\left| \\lambda _ { j } \\right| ^ { 2 } } } \\right) \\sum _{j=0}^{N-1} \\frac{b _ { j }}{\\lambda _ { j }} |0\\rangle_{n_{l}}|u_{j}\\rangle_{n_{b}} $$\n",
    "\twhich up to a normalisation factor corresponds to the solution.\n",
    "\n",
    "6. Apply an observable $M$ to calculate $F(x):=\\langle x|M|x\\rangle$."
   ]
  },
  {
   "cell_type": "markdown",
   "metadata": {},
   "source": [
    "### C. Quantum Phase Estimation (QPE) within HHL <a id='qpe'></a>\n",
    "\n",
    "Quantum Phase Estimation is described in more detail in Chapter 3. However, since this quantum procedure is at the core of the HHL algorithm, we recall here the definition. Roughly speaking, it is a quantum algorithm which, given a unitary $U$ with eigenvector $|\\psi\\rangle_{m}$ and eigenvalue $e^{2\\pi i\\theta}$, finds $\\theta$. We can formally define this as follows.\n",
    "\n",
    "**Definition:** Let $U\\in\\mathbb{ C }^{2^{m}\\times 2^{m}}$ be unitary and let $|\\psi\\rangle_{m}\\in\\mathbb{ C }^{2^{m}}$ be one of its eigenvectors with respective eigenvalue $e^{2\\pi i\\theta}$. The **Quantum Phase Estimation** algorithm, abbreviated **QPE**, takes as inputs the unitary gate for $U$ and the state $|0\\rangle_{n}|\\psi\\rangle_{m}$ and returns the state $|\\tilde{\\theta}\\rangle_{n}|\\psi\\rangle_{m}$. Here $\\tilde{\\theta}$ denotes a binary approximation to $2^{n}\\theta$ and the $n$ subscript denotes it has been truncated to $n$ digits.\t\n",
    "$$\n",
    "\\operatorname { QPE } ( U , |0\\rangle_{n}|\\psi\\rangle_{m} ) = |\\tilde{\\theta}\\rangle_{n}|\\psi\\rangle_{m}\n",
    "$$\n",
    "\n",
    "For the HHL we will use QPE with $U = e ^ { i A t }$, where $A$ is the matrix associated to the system we want to solve. In this case, \n",
    "$$\n",
    "e ^ { i A t } = \\sum_{j=0}^{N-1}e^{i\\lambda_{j}t}|u_{j}\\rangle\\langle u_{j}|\n",
    "$$\n",
    "Then, for the eigenvector $|u_{j}\\rangle_{n_{b}}$, which has eigenvalue $e ^ { i \\lambda _ { j } t }$, QPE will output $|\\tilde{\\lambda }_ { j }\\rangle_{n_{l}}|u_{j}\\rangle_{n_{b}}$. Where $\\tilde{\\lambda }_ { j }$ represents an $n_{l}$-bit binary approximation to $2^{n_l}\\frac{\\lambda_ { j }t}{2\\pi}$. Therefore, if each $\\lambda_{j}$ can be exactly represented with $n_{l}$ bits,\n",
    "$$\n",
    "\\operatorname { QPE } ( e ^ { i A t } , \\sum_{j=0}^{N-1}b_{j}|0\\rangle_{n_{l}}|u_{j}\\rangle_{n_{b}} ) = \\sum_{j=0}^{N-1}b_{j}|\\lambda_{j}\\rangle_{n_{l}}|u_{j}\\rangle_{n_{b}}\n",
    "$$"
   ]
  },
  {
   "cell_type": "markdown",
   "metadata": {},
   "source": [
    "### D. Non-exact QPE <a id='qpe2'></a>\n",
    "\n",
    "In reality, the quantum state of the register after applying QPE to the initial state is\n",
    "\n",
    "$$ \\sum _ { j=0 }^{N-1} b _ { j } \\left( \\sum _ { l = 0 } ^ { 2 ^ { n_{l} } - 1 } \\alpha _ { l | j } |l\\rangle_{n_{l}} \\right)|u_{j}\\rangle_{n_{b}} $$\n",
    "where\n",
    "\n",
    "$$ \\alpha _ { l | j } = \\frac { 1 } { 2 ^ { n_{l} } } \\sum _ { k = 0 } ^ { 2^{n_{l}}- 1 } \\left( e ^ { 2 \\pi i \\left( \\frac { \\lambda _ { j } t } { 2 \\pi } - \\frac { l } { 2 ^ { n_{l} } } \\right) } \\right) ^ { k } $$\n",
    "\n",
    "Denote by $\\tilde{\\lambda_{j}}$ the best $n_{l}$-bit approximation to $\\lambda_{j}$, $1\\leq j\\leq N$. Then we can relabel the $n_{l}$-register so that $\\alpha _ { l | j }$ denotes the amplitude of $|l + \\tilde { \\lambda } _ { j } \\rangle_{n_{l}}$. So now,\n",
    "\n",
    "$$\\alpha _ { l | j } : = \\frac { 1 } { 2 ^ { n_{l}} } \\sum _ { k = 0 } ^ { 2 ^ { n_{l} } - 1 } \\left( e ^ { 2 \\pi i \\left( \\frac { \\lambda _ { j } t } { 2 \\pi } - \\frac { l + \\tilde { \\lambda } _ { j } } { 2 ^ { n_{l} } } \\right) } \\right) ^ { k }$$\n",
    "\n",
    "If each $\\frac { \\lambda _ { j } t } { 2 \\pi }$ can be represented exactly with $n_{l}$ binary bits, then $\\frac { \\lambda _ { j } t } { 2 \\pi }=\\frac { \\tilde { \\lambda } _ { j } } { 2 ^ { n_{l} } }, \\forall j$. Therefore in this case $\\forall j$, $1\\leq j \\leq N$, it holds that $\\alpha _ { 0 | j } = 1$ and $\\alpha _ { l | j } = 0 \\quad \\forall l \\neq 0$. Only in this case we can write that the state of the register after QPE is \n",
    "\n",
    "$$ \\sum_{j=0}^{N-1} b _ { j } |\\lambda _ {j }\\rangle_{n_{l}} |u_{j}\\rangle_{n_{b}}$$\n",
    "\n",
    "Otherwise, $|\\alpha _ { l | j }|$ is large if and only if $\\frac { \\lambda _ { j } t } { 2 \\pi } \\approx \\frac { l + \\tilde { \\lambda } _ { j } } { 2 ^ { n_{l} } }$ and the state of the register is\n",
    "\n",
    "$$ \\sum _ { j=0 }^{N-1}  \\sum _ { l = 0 } ^ { 2 ^ { n_{l} } - 1 } \\alpha _ { l | j } b _ { j }|l\\rangle_{n_{l}} |u_{j}\\rangle_{n_{b}} $$"
   ]
  },
  {
   "cell_type": "markdown",
   "metadata": {},
   "source": [
    "## 3. Example: 4-qubit HHL<a id='example1'></a>\n",
    "\n",
    "Let's take the small example from the introduction to illustrate the algorithm. That is,\n",
    "$$A = \\begin{pmatrix}1 & -1/3\\\\-1/3 & 1 \\end{pmatrix}\\quad \\text{and} \\quad |b\\rangle=\\begin{pmatrix}1 \\\\ 0\\end{pmatrix}$$\n",
    "\n",
    "We will use $n_{b}=1$ qubit to represent $|b\\rangle$, and later the solution $|x\\rangle$, $n_{l}=2$ qubits to store the binary representation of the eigenvalues and $1$ auxiliary qubit to store whether the conditioned rotation, hence the algorithm, was successful.\n",
    "\n",
    "For the purpose of illustrating the algorithm, we will cheat a bit and calculate the eigenvalues of $A$ to be able to choose $t$ to obtain an exact binary representation of the rescaled eigenvalues in the $n_{l}$-register. However, keep in mind that for the HHL algorithm implementation one does not need previous knowledge of the eigenvalues. Having said that, a short calculation will give\n",
    "$$\\lambda_{1} = 2/3\\quad\\text{and}\\quad\\lambda_{2}=4/3$$\n",
    "\n",
    "Recall from the previous section that the QPE will output an $n_{l}$-bit ($2$-bit in this case) binary approximation to $\\frac{\\lambda_ { j }t}{2\\pi}$. Therefore, if we set \n",
    "$$t=2\\pi\\cdot \\frac{3}{8}$$\n",
    "the QPE will give a $2$-bit binary approximation to\n",
    "$$\\frac{\\lambda_ { 1 }t}{2\\pi} = 1/4\\quad\\text{and}\\quad\\frac{\\lambda_ { 2 }t}{2\\pi}=1/2$$\n",
    "which is, respectively,\n",
    "$$|01\\rangle_{n_{l}}\\quad\\text{and}\\quad|10\\rangle_{n_{l}}$$\n",
    "\n",
    "The eigenvectors are, respectively,\n",
    "$$|u_{1}\\rangle=\\frac{1}{\\sqrt{2}}\\begin{pmatrix}1 \\\\ -1\\end{pmatrix}\\quad\\text{and}\\quad|u_{2}\\rangle=\\frac{1}{\\sqrt{2}}\\begin{pmatrix}1 \\\\ 1\\end{pmatrix}$$\n",
    "\n",
    "Again, keep in mind that one does not need to compute the eigenvectors for the HHL implementation. In fact, a general Hermitian matrix $A$ of dimension $N$ can have up to $N$ different eigenvalues, therefore calculating them would take $\\mathcal{O}(N)$ time and the quantum advantage would be lost.\n",
    "\n",
    "We can then write $|b\\rangle$ in the eigenbasis of $A$ as\n",
    "$$|b\\rangle _{n_{b}}=\\sum_{j=1}^{2}\\frac{1}{\\sqrt{2}}|u_{j}\\rangle _{n_{b}}$$\n",
    "\n",
    "Now we are ready to go through the different steps of the HHL algorithm. \n",
    "\n",
    "1. State preparation in this example is trivial since $|b\\rangle=|0\\rangle$.\n",
    "2. Applying QPE will yield\n",
    "$$\n",
    "\\frac{1}{\\sqrt{2}}|01\\rangle|u_{1}\\rangle + \\frac{1}{\\sqrt{2}}|10\\rangle|u_{2}\\rangle\n",
    "$$\n",
    "3. Conditioned rotation with $C=1/8$ that is less than the smallest (rescaled) eigenvalue of $\\frac {1} {4}$. Note, the constant $C$ here needs to be chosen such that it is less than the smallest (rescaled) eigenvalue of $\\frac {1} {4}$ but as large as possible so that when the auxiliary qubit is measured, the probability of it being in the state $|1>$ is large.\n",
    "$$\\frac{1}{\\sqrt{2}}|01\\rangle|u_{1}\\rangle\\left( \\sqrt { 1 - \\frac { (1/8)^{2}  } {(1/4)^{2} } } |0\\rangle + \\frac { 1/8 } { 1/4 } |1\\rangle \\right) + \\frac{1}{\\sqrt{2}}|10\\rangle|u_{2}\\rangle\\left( \\sqrt { 1 - \\frac { (1/8)^{2}  } {(1/2)^{2} } } |0\\rangle + \\frac { 1/8 } { 1/2 } |1\\rangle \\right)\n",
    "$$\n",
    "$$\n",
    "=\\frac{1}{\\sqrt{2}}|01\\rangle|u_{1}\\rangle\\left( \\sqrt { 1 - \\frac { 1  } {4 } } |0\\rangle + \\frac { 1 } { 2 } |1\\rangle \\right) + \\frac{1}{\\sqrt{2}}|10\\rangle|u_{2}\\rangle\\left( \\sqrt { 1 - \\frac { 1  } {16 } } |0\\rangle + \\frac { 1 } { 4 } |1\\rangle \\right)\n",
    "$$\n",
    "4. After applying the inverted QPE the quantum computer is in the state\n",
    "$$\n",
    "\\frac{1}{\\sqrt{2}}|00\\rangle|u_{1}\\rangle\\left( \\sqrt { 1 - \\frac { 1  } {4 } } |0\\rangle + \\frac { 1 } { 2 } |1\\rangle \\right) + \\frac{1}{\\sqrt{2}}|00\\rangle|u_{2}\\rangle\\left( \\sqrt { 1 - \\frac { 1  } {16 } } |0\\rangle + \\frac { 1 } { 4 } |1\\rangle \\right)\n",
    "$$\n",
    "5. On outcome $1$ when measuring the auxiliary qubit, the state is \n",
    "$$\n",
    "\\frac{\\frac{1}{\\sqrt{2}}|00\\rangle|u_{1}\\rangle\\frac { 1 } { 2 } |1\\rangle + \\frac{1}{\\sqrt{2}}|00\\rangle|u_{2}\\rangle\\frac { 1 } { 4 } |1\\rangle}{\\sqrt{5/32}}\n",
    "$$\n",
    "A quick calculation shows that\n",
    "$$\n",
    "\\frac{\\frac{1}{2\\sqrt{2}}|u_{1}\\rangle+ \\frac{1}{4\\sqrt{2}}|u_{2}\\rangle}{\\sqrt{5/32}} = \\frac{|x\\rangle}{||x||}\n",
    "$$\n",
    "6. Without using extra gates, we can compute the norm of $|x\\rangle$: it is the probability of measuring $1$ in the auxiliary qubit from the previous step.\n",
    "$$\n",
    "P(|1\\rangle) = \\left(\\frac{1}{2\\sqrt{2}}\\right)^{2} + \\left(\\frac{1}{4\\sqrt{2}}\\right)^{2} = \\frac{5}{32} = ||x||^{2}\n",
    "$$"
   ]
  },
  {
   "cell_type": "markdown",
   "metadata": {},
   "source": [
    "## 4. Qiskit Implementation<a id='implementation'></a>\n",
    "\n",
    "Now that we have analytically solved the problem from the example we are going to use it to illustrate how to run the HHL on a quantum simulator and on the real hardware. The following uses `quantum_linear_solvers`, a Qiskit-based package. The most stratightforward way to install it  install it is through an old version of Qiskit using Python environments (see our README.md file). Alternatively, you can do a custom install downloading the code of this [repository](https://github.com/anedumla/quantum_linear_solvers) and installed as described in the corresponding `Readme` file. For the quantum simulator, `quantum_linear_solvers` already provides an implementation of the HHL algorithm requiring only the matrix $A$ and $|b\\rangle$ as inputs in the simplest example. Although we can give the algorithm a general Hermitian matrix and an arbitrary initial state as NumPy arrays, in these cases the quantum algorithm will not achieve an exponential speedup. This is because the default implementation is exact and therefore exponential in the number of qubits. There is no algorithm polynomial resources in the number of qubits that can prepare an exact arbitrary quantum state, or that can perform the exact operation $e^{iAt}$ for some general Hermitian matrix $A$. If we know an efficient implementation for a particular problem, the matrix and/or the vector can be given as `QuantumCircuit` objects. Alternatively, there's already an efficient implementation for tridiagonal Toeplitz matrices and in the future there might be more."
   ]
  },
  {
   "cell_type": "markdown",
   "metadata": {},
   "source": [
    "## A. Running HHL on a simulator: general method<a id='implementationsim'></a>\n",
    "\n",
    "To run the code on this page, we will use the linear solvers package in QisKit 0.40.0. The interface for all algorithms to solve the linear system problem is `LinearSolver`. The problem to be solved is only specified when the `solve()` method is called:\n",
    "```python\n",
    "LinearSolver(...).solve(matrix, vector)\n",
    "```\n",
    "\n",
    "The simplest implementation takes the matrix and the vector as NumPy arrays. Below we also create a `NumPyLinearSolver` (the classical algorithm) to validate our solutions."
   ]
  },
  {
   "cell_type": "markdown",
   "metadata": {},
   "source": [
    "### Classical Numpy solver\n",
    "\n",
    "For the classical solver we need to rescale the right hand side (i.e. `vector / np.linalg.norm(vector)`) to take into account the renormalisation that occurs once `vector` is encoded in a quantum state within HHL."
   ]
  },
  {
   "cell_type": "code",
   "execution_count": 2,
   "metadata": {},
   "outputs": [
    {
     "name": "stderr",
     "output_type": "stream",
     "text": [
      "/var/folders/yh/cycxl0_j42bb7_1dhcyz1syh0000gn/T/ipykernel_8007/3156863825.py:13: DeprecationWarning: The NumPyLinearSolver class is deprecated as of Qiskit Terra 0.22.0 and will be removed no sooner than 3 months after the release date. \n",
      "  classical_solution=NumPyLinearSolver().solve(matrix,vector/np.linalg.norm(vector))\n"
     ]
    }
   ],
   "source": [
    "import numpy as np\n",
    "# pylint: disable=line-too-long\n",
    "from qiskit.algorithms import NumPyLinearSolver\n",
    "from qiskit.algorithms.linear_solvers.hhl import HHL\n",
    "\n",
    "#Defining example matrix A and vector b\n",
    "matrix = np.array([[1, -1/3], [-1/3, 1]])\n",
    "vector = np.array([1, 0])\n",
    "\n",
    "#C\n",
    "\n",
    "def linalg_solve(matrix, vector):\n",
    "    classical_solution=NumPyLinearSolver().solve(matrix,vector/np.linalg.norm(vector))\n",
    "    return classical_solution\n",
    "\n",
    "classical_solution = linalg_solve(matrix,vector/np.linalg.norm(vector))"
   ]
  },
  {
   "cell_type": "markdown",
   "metadata": {},
   "source": [
    "### Exact quantum solution via HHL\n",
    "\n",
    "To solve the system exactly with a quantum algorithm, we call the HHL library with default opetions on a given matrix vector without any optimizations. This will implement an exact (albeit highly inefficient) version of the quantum phase estimatio algorithm."
   ]
  },
  {
   "cell_type": "code",
   "execution_count": 3,
   "metadata": {},
   "outputs": [
    {
     "name": "stderr",
     "output_type": "stream",
     "text": [
      "/var/folders/yh/cycxl0_j42bb7_1dhcyz1syh0000gn/T/ipykernel_8007/1109749407.py:3: DeprecationWarning: The HHL class is deprecated as of Qiskit Terra 0.22.0 and will be removed\n",
      "        no sooner than 3 months after the release date.\n",
      "        It is replaced by the tutorial at https://qiskit.org/textbook/ch-applications/hhl_tutorial.html\"\n",
      "        \n",
      "  naive_hhl_solution = HHL().solve(matrix, vector)\n"
     ]
    }
   ],
   "source": [
    "#Testing the HHL algorithm to solve the system of equations Ax=b. The code below computes a naive_hhl_solution x\n",
    "\n",
    "naive_hhl_solution = HHL().solve(matrix, vector)"
   ]
  },
  {
   "cell_type": "markdown",
   "metadata": {},
   "source": [
    "### Efficient approximate Quantum Phase Estimation for Trigiadonal matrices\n",
    "\n",
    "The `linear_solvers` package contains a folder called `matrices` intended to be a placeholder for efficient implementations of particular types of matrices. At the time of writing the only truly efficient implementation it contains (i.e. complexity scaling polynomially in the number of qubits) is the `TridiagonalToeplitz` class. Tridiagonal Toeplitz symmetric real matrices are of the following form \n",
    "\n",
    "$$A = \\begin{pmatrix}a & b & 0 & 0\\\\b & a & b & 0 \\\\ 0 & b & a & b \\\\ 0 & 0 & b & a \\end{pmatrix}, a,b\\in\\mathbb{R}$$\n",
    "\n",
    "(note that in this setting we do not consider non symmetric matrices since the HHL algorithm assumes that the input matrix is Hermitian).\n",
    "\n",
    "Since the matrix $A$ from our example is of this form we can create an instance of `TridiagonalToeplitz(num_qubits, a, b)` and compare the results to solving the system with an array as input."
   ]
  },
  {
   "cell_type": "code",
   "execution_count": 4,
   "metadata": {},
   "outputs": [
    {
     "name": "stdout",
     "output_type": "stream",
     "text": [
      "tridi matrix:         \n",
      "state: \n",
      "       \n",
      "tridi solution:  {   'circuit_results': None,\n",
      "    'euclidean_norm': 1.1858541225631367,\n",
      "    'observable': None,\n",
      "    'state': <qiskit.circuit.quantumcircuit.QuantumCircuit object at 0x133c79450>}\n"
     ]
    },
    {
     "name": "stderr",
     "output_type": "stream",
     "text": [
      "/var/folders/yh/cycxl0_j42bb7_1dhcyz1syh0000gn/T/ipykernel_8007/15451246.py:9: DeprecationWarning: The TridiagonalToeplitz class is deprecated as of Qiskit Terra 0.22.0 and will be removed no sooner than 3 months after the release date. \n",
      "  tridi_matrix = TridiagonalToeplitz(1, 1, -1 / 3)\n",
      "/var/folders/yh/cycxl0_j42bb7_1dhcyz1syh0000gn/T/ipykernel_8007/15451246.py:10: DeprecationWarning: The HHL class is deprecated as of Qiskit Terra 0.22.0 and will be removed\n",
      "        no sooner than 3 months after the release date.\n",
      "        It is replaced by the tutorial at https://qiskit.org/textbook/ch-applications/hhl_tutorial.html\"\n",
      "        \n",
      "  tridi_solution = HHL().solve(tridi_matrix, vector)\n"
     ]
    }
   ],
   "source": [
    "## Assignment HHL\n",
    "#When num_state_qubits=1 can be simulate in this machine\n",
    "from qiskit.algorithms.linear_solvers.matrices import TridiagonalToeplitz\n",
    "\n",
    "# FUNCTION USAGE IS DOCUMENTED HERE https://docs.quantum.ibm.com/api/qiskit/0.40/qiskit.algorithms.linear_solvers.TridiagonalToeplitz\n",
    "# class TridiagonalToeplitz(num_state_qubits, main_diag, off_diag, tolerance=0.01,\n",
    "# evolution_time=1.0, trotter_steps=1, name='tridi')\n",
    "# Pick num_state_qubits=n to create a 2^n x 2^n matrix\n",
    "\n",
    "\n",
    "tridi_matrix = TridiagonalToeplitz(1, 1, -1 / 3)\n",
    "tridi_solution = HHL().solve(tridi_matrix, vector)\n",
    "\n",
    "print('tridi matrix: ',tridi_matrix)\n",
    "print('tridi solution: ',tridi_solution)\n"
   ]
  },
  {
   "cell_type": "code",
   "execution_count": 15,
   "metadata": {},
   "outputs": [
    {
     "name": "stderr",
     "output_type": "stream",
     "text": [
      "/var/folders/yh/cycxl0_j42bb7_1dhcyz1syh0000gn/T/ipykernel_8007/60997851.py:21: DeprecationWarning: The TridiagonalToeplitz class is deprecated as of Qiskit Terra 0.22.0 and will be removed no sooner than 3 months after the release date. \n",
      "  tridi_matrix_2 = TridiagonalToeplitz(num_state_qubits_2, 1, -1 / 3)\n",
      "/var/folders/yh/cycxl0_j42bb7_1dhcyz1syh0000gn/T/ipykernel_8007/60997851.py:22: DeprecationWarning: The HHL class is deprecated as of Qiskit Terra 0.22.0 and will be removed\n",
      "        no sooner than 3 months after the release date.\n",
      "        It is replaced by the tutorial at https://qiskit.org/textbook/ch-applications/hhl_tutorial.html\"\n",
      "        \n",
      "  tridi_solution_2 = HHL().solve(tridi_matrix_2, vector_2)\n"
     ]
    },
    {
     "name": "stdout",
     "output_type": "stream",
     "text": [
      "tridi matrix:           \n",
      "state_0: \n",
      "         \n",
      "state_1: \n",
      "         \n",
      "  a3290: \n",
      "         \n",
      "tridi solution:  {   'circuit_results': None,\n",
      "    'euclidean_norm': 1.209457721870527,\n",
      "    'observable': None,\n",
      "    'state': <qiskit.circuit.quantumcircuit.QuantumCircuit object at 0x15cefc220>}\n"
     ]
    },
    {
     "name": "stderr",
     "output_type": "stream",
     "text": [
      "/var/folders/yh/cycxl0_j42bb7_1dhcyz1syh0000gn/T/ipykernel_8007/60997851.py:27: DeprecationWarning: The HHL class is deprecated as of Qiskit Terra 0.22.0 and will be removed\n",
      "        no sooner than 3 months after the release date.\n",
      "        It is replaced by the tutorial at https://qiskit.org/textbook/ch-applications/hhl_tutorial.html\"\n",
      "        \n",
      "  average_solution_2 = HHL().solve(tridi_matrix_2,\n",
      "/var/folders/yh/cycxl0_j42bb7_1dhcyz1syh0000gn/T/ipykernel_8007/60997851.py:29: DeprecationWarning: The AbsoluteAverage class is deprecated as of Qiskit Terra 0.22.0 and will be removed no sooner than 3 months after the release date. \n",
      "  AbsoluteAverage())\n",
      "/var/folders/yh/cycxl0_j42bb7_1dhcyz1syh0000gn/T/ipykernel_8007/60997851.py:31: DeprecationWarning: The MatrixFunctional class is deprecated as of Qiskit Terra 0.22.0 and will be removed no sooner than 3 months after the release date. \n",
      "  observable_2 = MatrixFunctional(1, 1 / 2)\n",
      "/var/folders/yh/cycxl0_j42bb7_1dhcyz1syh0000gn/T/ipykernel_8007/60997851.py:33: DeprecationWarning: The HHL class is deprecated as of Qiskit Terra 0.22.0 and will be removed\n",
      "        no sooner than 3 months after the release date.\n",
      "        It is replaced by the tutorial at https://qiskit.org/textbook/ch-applications/hhl_tutorial.html\"\n",
      "        \n",
      "  functional_solution_2 = HHL().solve(tridi_matrix_2, vector_2, observable_2)\n"
     ]
    },
    {
     "name": "stdout",
     "output_type": "stream",
     "text": [
      "a) norm_x:  1.209457721870527\n",
      "b) avg_x:  0.45005591965119346\n",
      "c) quantum functional (inner_product): 2.034701011478756\n",
      "d) classical functional (using linalg): 1.828125\n"
     ]
    },
    {
     "name": "stderr",
     "output_type": "stream",
     "text": [
      "/var/folders/yh/cycxl0_j42bb7_1dhcyz1syh0000gn/T/ipykernel_8007/60997851.py:34: DeprecationWarning: The NumPyLinearSolver class is deprecated as of Qiskit Terra 0.22.0 and will be removed no sooner than 3 months after the release date. \n",
      "  classical_functional_2 = NumPyLinearSolver(\n"
     ]
    }
   ],
   "source": [
    "## Assignment HHL\n",
    "# When num_state_qubits=2 can be simulate in this machine\n",
    "# This is the system chosen to be solved \n",
    "from qiskit.algorithms.linear_solvers.observables import AbsoluteAverage, MatrixFunctional\n",
    "from qiskit import QuantumCircuit\n",
    "\n",
    "qc = QuantumCircuit(6)\n",
    "num_state_qubits_2=2\n",
    "vector_2 = np.array([1, 0, 0, 0])\n",
    "matrix_2 = np.array([\n",
    "    [1, -1 / 3, 0, 0],\n",
    "    [-1 / 3, 1, 0, 0],\n",
    "    [0, 0, 1, -1 / 3],\n",
    "    [0, 0, -1 / 3, 1]\n",
    "    ])\n",
    "\n",
    "tridi_matrix_2 = TridiagonalToeplitz(num_state_qubits_2, 1, -1 / 3)\n",
    "tridi_solution_2 = HHL().solve(tridi_matrix_2, vector_2)\n",
    "\n",
    "print('tridi matrix: ',tridi_matrix_2)\n",
    "print('tridi solution: ',tridi_solution_2)\n",
    "\n",
    "average_solution_2 = HHL().solve(tridi_matrix_2,\n",
    "                               vector_2,\n",
    "                               AbsoluteAverage())\n",
    "\n",
    "observable_2 = MatrixFunctional(1, 1 / 2)\n",
    "\n",
    "functional_solution_2 = HHL().solve(tridi_matrix_2, vector_2, observable_2)\n",
    "classical_functional_2 = NumPyLinearSolver(\n",
    "                          ).solve(matrix_2,\n",
    "                                  vector_2 / np.linalg.norm(vector_2),\n",
    "                                  observable_2)\n",
    "\n",
    "print('a) norm_x: ',tridi_solution_2.euclidean_norm )\n",
    "print('b) avg_x: ',average_solution_2.observable )\n",
    "print('c) quantum functional (inner_product):', functional_solution_2.observable)\n",
    "print('d) classical functional (using linalg):', classical_functional_2.observable)"
   ]
  },
  {
   "cell_type": "code",
   "execution_count": 53,
   "metadata": {},
   "outputs": [
    {
     "name": "stdout",
     "output_type": "stream",
     "text": [
      "maindiag:  0.908852344295402  off_diag:  -0.970639542944568\n",
      "matrix:           \n",
      "state_0: \n",
      "         \n",
      "state_1: \n",
      "         \n",
      "  a8761: \n",
      "         \n"
     ]
    },
    {
     "name": "stderr",
     "output_type": "stream",
     "text": [
      "/var/folders/yh/cycxl0_j42bb7_1dhcyz1syh0000gn/T/ipykernel_8007/4272020773.py:23: DeprecationWarning: The TridiagonalToeplitz class is deprecated as of Qiskit Terra 0.22.0 and will be removed no sooner than 3 months after the release date. \n",
      "  A = TridiagonalToeplitz(n, main_diag[0], off_diag[0])\n",
      "/var/folders/yh/cycxl0_j42bb7_1dhcyz1syh0000gn/T/ipykernel_8007/4272020773.py:40: DeprecationWarning: The HHL class is deprecated as of Qiskit Terra 0.22.0 and will be removed\n",
      "        no sooner than 3 months after the release date.\n",
      "        It is replaced by the tutorial at https://qiskit.org/textbook/ch-applications/hhl_tutorial.html\"\n",
      "        \n",
      "  result = HHL().solve(A, b)\n"
     ]
    },
    {
     "name": "stdout",
     "output_type": "stream",
     "text": [
      "solution          ┌────────────────┐┌──────┐        ┌─────────┐\n",
      "q9849_0: ┤0               ├┤5     ├────────┤5        ├\n",
      "         │  circuit-67627 ││      │        │         │\n",
      "q9849_1: ┤1               ├┤6     ├────────┤6        ├\n",
      "         └────────────────┘│      │┌──────┐│         │\n",
      "q9850_0: ──────────────────┤0     ├┤4     ├┤0        ├\n",
      "                           │      ││      ││         │\n",
      "q9850_1: ──────────────────┤1     ├┤3     ├┤1        ├\n",
      "                           │  QPE ││      ││  QPE_dg │\n",
      "q9850_2: ──────────────────┤2     ├┤2     ├┤2        ├\n",
      "                           │      ││      ││         │\n",
      "q9850_3: ──────────────────┤3     ├┤1 1/x ├┤3        ├\n",
      "                           │      ││      ││         │\n",
      "q9850_4: ──────────────────┤4     ├┤0     ├┤4        ├\n",
      "                           │      ││      ││         │\n",
      "  a8762: ──────────────────┤7     ├┤      ├┤7        ├\n",
      "                           └──────┘│      │└─────────┘\n",
      "  q9851: ──────────────────────────┤5     ├───────────\n",
      "                                   └──────┘           \n",
      "norm 2.0768651480157723\n",
      "Time taken to solve the system: 2.0594 seconds\n"
     ]
    }
   ],
   "source": [
    "## Assignment HHL\n",
    "#Case_a when a,b are randomly chosen real numbers in the interval [-1,1] and n=2\n",
    "\n",
    "import time\n",
    "\n",
    "def run_hhl_with_tridiagonal_matrix(n, main_diag_range=(-1, 1), off_diag_range=(-1, 1)):\n",
    "    \"\"\"Generate a tridiagonal matrix and solve Ax = b using the HHL algorithm.\"\"\"\n",
    "    \n",
    "    # matrix using the TridiagonalToeplitz class\n",
    "    main_diag = np.random.uniform(main_diag_range)\n",
    "    off_diag = np.random.uniform(off_diag_range)\n",
    "\n",
    "    # Create the tridiagonal matrix\n",
    "    A = TridiagonalToeplitz(n, main_diag[0], off_diag[0])\n",
    "    \n",
    "    # Generate a random vector b\n",
    "    b = np.array([1, 0, 0, 0])\n",
    "    \n",
    "    # Measure the time taken to solve the system\n",
    "    start_time = time.time()\n",
    "    \n",
    "    # Solve the system using HHL\n",
    "    result = HHL().solve(A, b)\n",
    "    \n",
    "    # End the timer\n",
    "    end_time = time.time()\n",
    "    elapsed_time = end_time - start_time\n",
    "    \n",
    "    # Extract solution and compute the vector norm\n",
    "    solution = result.state\n",
    "\n",
    "    print('solution', solution)\n",
    "\n",
    "    print('norm', result.euclidean_norm)\n",
    "    \n",
    "    print(f\"Time taken to solve the system: {elapsed_time:.4f} seconds\")\n",
    "    \n",
    "    return A, b, solution, elapsed_time\n",
    "\n",
    "case_a = run_hhl_with_tridiagonal_matrix(2)"
   ]
  },
  {
   "cell_type": "code",
   "execution_count": 54,
   "metadata": {},
   "outputs": [
    {
     "name": "stderr",
     "output_type": "stream",
     "text": [
      "/var/folders/yh/cycxl0_j42bb7_1dhcyz1syh0000gn/T/ipykernel_8007/219226033.py:14: DeprecationWarning: The TridiagonalToeplitz class is deprecated as of Qiskit Terra 0.22.0 and will be removed no sooner than 3 months after the release date. \n",
      "  A = TridiagonalToeplitz(n, main_diag, off_diag)\n",
      "/var/folders/yh/cycxl0_j42bb7_1dhcyz1syh0000gn/T/ipykernel_8007/219226033.py:31: DeprecationWarning: The HHL class is deprecated as of Qiskit Terra 0.22.0 and will be removed\n",
      "        no sooner than 3 months after the release date.\n",
      "        It is replaced by the tutorial at https://qiskit.org/textbook/ch-applications/hhl_tutorial.html\"\n",
      "        \n",
      "  result = HHL().solve(A, b)\n"
     ]
    },
    {
     "name": "stdout",
     "output_type": "stream",
     "text": [
      "matrix:           \n",
      "state_0: \n",
      "         \n",
      "state_1: \n",
      "         \n",
      "  a8972: \n",
      "         \n",
      "solution           ┌────────────────┐┌──────┐        ┌─────────┐\n",
      "q10073_0: ┤0               ├┤4     ├────────┤4        ├\n",
      "          │  circuit-68872 ││      │        │         │\n",
      "q10073_1: ┤1               ├┤5     ├────────┤5        ├\n",
      "          └────────────────┘│      │┌──────┐│         │\n",
      "q10074_0: ──────────────────┤0     ├┤3     ├┤0        ├\n",
      "                            │      ││      ││         │\n",
      "q10074_1: ──────────────────┤1 QPE ├┤2     ├┤1 QPE_dg ├\n",
      "                            │      ││      ││         │\n",
      "q10074_2: ──────────────────┤2     ├┤1     ├┤2        ├\n",
      "                            │      ││  1/x ││         │\n",
      "q10074_3: ──────────────────┤3     ├┤0     ├┤3        ├\n",
      "                            │      ││      ││         │\n",
      "   a8973: ──────────────────┤6     ├┤      ├┤6        ├\n",
      "                            └──────┘│      │└─────────┘\n",
      "  q10075: ──────────────────────────┤4     ├───────────\n",
      "                                    └──────┘           \n",
      "norm 1.2596482518217453\n",
      "Time taken to solve the system: 3.5925 seconds\n"
     ]
    }
   ],
   "source": [
    "## Assignment HHL\n",
    "#Case_b when a,b are randomly chosen real numbers in the interval [-n,n] and n=2\n",
    "\n",
    "def run_hhl_with_tridiagonal_matrix_n(n):\n",
    "    \"\"\"Generate a tridiagonal matrix and solve Ax = b using the HHL algorithm.\"\"\"\n",
    "    \n",
    "    # matrix using the TridiagonalToeplitz class\n",
    "    main_diag = np.random.uniform(-n,n)\n",
    "    off_diag = np.random.uniform(-n,n) \n",
    "\n",
    "    # Create the tridiagonal matrix\n",
    "    A = TridiagonalToeplitz(n, main_diag, off_diag)\n",
    "    \n",
    "    # Generate a random vector b\n",
    "    b = np.array([1, 0, 0, 0])\n",
    "\n",
    "    # Measure the time taken to solve the system\n",
    "    start_time = time.time()\n",
    "    \n",
    "    # Solve the system using HHL\n",
    "    result = HHL().solve(A, b)\n",
    "    \n",
    "    # End the timer\n",
    "    end_time = time.time()\n",
    "    elapsed_time = end_time - start_time\n",
    "    \n",
    "    # Extract solution and compute the vector norm\n",
    "    solution = result.state\n",
    "\n",
    "    print('solution', solution)\n",
    "\n",
    "    print('norm', result.euclidean_norm)\n",
    "    \n",
    "    print(f\"Time taken to solve the system: {elapsed_time:.4f} seconds\")\n",
    "    \n",
    "    return A, b, solution, elapsed_time\n",
    "\n",
    "case_b = run_hhl_with_tridiagonal_matrix_n(2)"
   ]
  },
  {
   "cell_type": "code",
   "execution_count": 67,
   "metadata": {},
   "outputs": [
    {
     "name": "stdout",
     "output_type": "stream",
     "text": [
      "maindiag:  0.005825007291683448  off_diag:  -1.482302220150232\n",
      "matrix:           \n",
      "state_0: \n",
      "         \n",
      "state_1: \n",
      "         \n",
      " a11043: \n",
      "         \n"
     ]
    },
    {
     "name": "stderr",
     "output_type": "stream",
     "text": [
      "/var/folders/yh/cycxl0_j42bb7_1dhcyz1syh0000gn/T/ipykernel_8007/1659779594.py:14: DeprecationWarning: The TridiagonalToeplitz class is deprecated as of Qiskit Terra 0.22.0 and will be removed no sooner than 3 months after the release date. \n",
      "  A = TridiagonalToeplitz(n, main_diag, off_diag)\n",
      "/var/folders/yh/cycxl0_j42bb7_1dhcyz1syh0000gn/T/ipykernel_8007/1659779594.py:31: DeprecationWarning: The HHL class is deprecated as of Qiskit Terra 0.22.0 and will be removed\n",
      "        no sooner than 3 months after the release date.\n",
      "        It is replaced by the tutorial at https://qiskit.org/textbook/ch-applications/hhl_tutorial.html\"\n",
      "        \n",
      "  result = HHL().solve(A, b)\n"
     ]
    },
    {
     "name": "stdout",
     "output_type": "stream",
     "text": [
      "solution           ┌────────────────┐┌──────┐        ┌─────────┐\n",
      "q12309_0: ┤0               ├┤4     ├────────┤4        ├\n",
      "          │  circuit-80806 ││      │        │         │\n",
      "q12309_1: ┤1               ├┤5     ├────────┤5        ├\n",
      "          └────────────────┘│      │┌──────┐│         │\n",
      "q12310_0: ──────────────────┤0     ├┤3     ├┤0        ├\n",
      "                            │      ││      ││         │\n",
      "q12310_1: ──────────────────┤1 QPE ├┤2     ├┤1 QPE_dg ├\n",
      "                            │      ││      ││         │\n",
      "q12310_2: ──────────────────┤2     ├┤1     ├┤2        ├\n",
      "                            │      ││  1/x ││         │\n",
      "q12310_3: ──────────────────┤3     ├┤0     ├┤3        ├\n",
      "                            │      ││      ││         │\n",
      "  a11044: ──────────────────┤6     ├┤      ├┤6        ├\n",
      "                            └──────┘│      │└─────────┘\n",
      "  q12311: ──────────────────────────┤4     ├───────────\n",
      "                                    └──────┘           \n",
      "norm 0.9591525906006111\n",
      "Time taken to solve the system: 3.5985 seconds\n",
      "(<qiskit.algorithms.linear_solvers.matrices.tridiagonal_toeplitz.TridiagonalToeplitz object at 0x15e36cdf0>, array([1, 0, 0, 0]), <qiskit.circuit.quantumcircuit.QuantumCircuit object at 0x16b3f1120>, 3.5985190868377686)\n"
     ]
    }
   ],
   "source": [
    "## Assignment HHL\n",
    "#Case_b when a,b are randomly chosen real numbers in the interval [-2**n,2**n] and n=2\n",
    "\n",
    "def run_hhl_with_tridiagonal_matrix_2n(n):\n",
    "    \"\"\"Generate a tridiagonal matrix and solve Ax = b using the HHL algorithm.\"\"\"\n",
    "    \n",
    "    # matrix using the TridiagonalToeplitz class\n",
    "    main_diag = np.random.uniform(-2**n,2**n)\n",
    "    off_diag = np.random.uniform(-2**n,2**n)\n",
    "\n",
    "    # Create the tridiagonal matrix\n",
    "    A = TridiagonalToeplitz(n, main_diag, off_diag)\n",
    "    \n",
    "    # Generate a random vector b\n",
    "    b = np.array([1, 0, 0, 0])\n",
    "    \n",
    "    # Measure the time taken to solve the system\n",
    "    start_time = time.time()\n",
    "    \n",
    "    # Solve the system using HHL\n",
    "    result = HHL().solve(A, b)\n",
    "    \n",
    "    # End the timer\n",
    "    end_time = time.time()\n",
    "    elapsed_time = end_time - start_time\n",
    "    \n",
    "    # Extract solution and compute the vector norm\n",
    "    solution = result.state\n",
    "\n",
    "    print('solution', solution)\n",
    "\n",
    "    print('norm', result.euclidean_norm)\n",
    "    \n",
    "    print(f\"Time taken to solve the system: {elapsed_time:.4f} seconds\")\n",
    "    \n",
    "    return A, b, solution, elapsed_time\n",
    "\n",
    "case_c = run_hhl_with_tridiagonal_matrix_2n(2)\n",
    "print(case_c)"
   ]
  },
  {
   "cell_type": "code",
   "execution_count": 82,
   "metadata": {},
   "outputs": [
    {
     "data": {
      "image/png": "[encoded data removed]",
      "text/plain": [
       "<Figure size 800x400 with 1 Axes>"
      ]
     },
     "metadata": {},
     "output_type": "display_data"
    }
   ],
   "source": [
    "## Assignment HHL\n",
    "# Plot of the cases and times\n",
    "import matplotlib.pyplot as plt\n",
    "plt.figure(figsize=(8, 4))\n",
    "    \n",
    "n_values = ['case_a', 'case_b', 'case_c']\n",
    "times = [case_a[3], case_b[3], case_c[3]]\n",
    "plt.bar(n_values, times, color=['blue', 'green', 'purple'], width=0.2)\n",
    "    \n",
    "plt.xlabel(\"cases\")\n",
    "plt.ylabel(\"times (s)\")\n",
    "plt.title(\"HHL Algorithm Performance with Different Matrix Entry Ranges for n=2\")\n",
    "# plt.legend()\n",
    "# plt.grid(True)\n",
    "plt.show()"
   ]
  },
  {
   "cell_type": "code",
   "execution_count": 54,
   "metadata": {},
   "outputs": [
    {
     "name": "stderr",
     "output_type": "stream",
     "text": [
      "/var/folders/yh/cycxl0_j42bb7_1dhcyz1syh0000gn/T/ipykernel_22345/2451086532.py:4: DeprecationWarning: The TridiagonalToeplitz class is deprecated as of Qiskit Terra 0.22.0 and will be removed no sooner than 3 months after the release date. \n",
      "  tridi_matrix_3 = TridiagonalToeplitz(num_state_qubits_3, 1, -1 / 3)\n",
      "/var/folders/yh/cycxl0_j42bb7_1dhcyz1syh0000gn/T/ipykernel_22345/2451086532.py:5: DeprecationWarning: The HHL class is deprecated as of Qiskit Terra 0.22.0 and will be removed\n",
      "        no sooner than 3 months after the release date.\n",
      "        It is replaced by the tutorial at https://qiskit.org/textbook/ch-applications/hhl_tutorial.html\"\n",
      "        \n",
      "  tridi_solution_3 = HHL().solve(tridi_matrix_3, vector_3)\n"
     ]
    },
    {
     "name": "stdout",
     "output_type": "stream",
     "text": [
      "tridi matrix:           \n",
      "state_0: \n",
      "         \n",
      "state_1: \n",
      "         \n",
      "state_2: \n",
      "         \n",
      "a1706_0: \n",
      "         \n",
      "a1706_1: \n",
      "         \n",
      "tridi solution:  {   'circuit_results': None,\n",
      "    'euclidean_norm': 1.227424717239001,\n",
      "    'observable': None,\n",
      "    'state': <qiskit.circuit.quantumcircuit.QuantumCircuit object at 0x1568e0370>}\n"
     ]
    }
   ],
   "source": [
    "## Assignment HHL\n",
    "# When num_state_qubits=3 can be simulate in this machine\n",
    "num_state_qubits_3=3\n",
    "vector_3 = np.array([1, 0, 0, 0, 0, 0, 0 ,0])\n",
    "\n",
    "tridi_matrix_3 = TridiagonalToeplitz(num_state_qubits_3, 1, -1 / 3)\n",
    "tridi_solution_3 = HHL().solve(tridi_matrix_3, vector_3)\n",
    "\n",
    "\n",
    "print('tridi matrix: ',tridi_matrix_3)\n",
    "print('tridi solution: ',tridi_solution_3)"
   ]
  },
  {
   "cell_type": "code",
   "execution_count": 55,
   "metadata": {},
   "outputs": [
    {
     "name": "stderr",
     "output_type": "stream",
     "text": [
      "/var/folders/yh/cycxl0_j42bb7_1dhcyz1syh0000gn/T/ipykernel_22345/2326443289.py:5: DeprecationWarning: The TridiagonalToeplitz class is deprecated as of Qiskit Terra 0.22.0 and will be removed no sooner than 3 months after the release date. \n",
      "  tridi_matrix_4 = TridiagonalToeplitz(num_state_qubits_4, 1, -1 / 3)\n",
      "/var/folders/yh/cycxl0_j42bb7_1dhcyz1syh0000gn/T/ipykernel_22345/2326443289.py:6: DeprecationWarning: The HHL class is deprecated as of Qiskit Terra 0.22.0 and will be removed\n",
      "        no sooner than 3 months after the release date.\n",
      "        It is replaced by the tutorial at https://qiskit.org/textbook/ch-applications/hhl_tutorial.html\"\n",
      "        \n",
      "  tridi_solution_4 = HHL().solve(tridi_matrix_4, vector_4)\n"
     ]
    },
    {
     "name": "stdout",
     "output_type": "stream",
     "text": [
      "tridi matrix:           \n",
      "state_0: \n",
      "         \n",
      "state_1: \n",
      "         \n",
      "state_2: \n",
      "         \n",
      "state_3: \n",
      "         \n",
      "a1871_0: \n",
      "         \n",
      "a1871_1: \n",
      "         \n",
      "a1871_2: \n",
      "         \n",
      "tridi solution:  {   'circuit_results': None,\n",
      "    'euclidean_norm': 1.2059174605960543,\n",
      "    'observable': None,\n",
      "    'state': <qiskit.circuit.quantumcircuit.QuantumCircuit object at 0x177828d90>}\n"
     ]
    }
   ],
   "source": [
    "## Assignment HHL\n",
    "# When num_state_qubits=4 can be simulate in this machine\n",
    "num_state_qubits_4=4\n",
    "\n",
    "vector_4 = np.array([1, 0, 0, 0, 0, 0, 0 ,0, 0, 0, 0, 0, 0, 0, 0, 0])\n",
    "\n",
    "tridi_matrix_4 = TridiagonalToeplitz(num_state_qubits_4, 1, -1 / 3)\n",
    "tridi_solution_4 = HHL().solve(tridi_matrix_4, vector_4)\n",
    "\n",
    "print('tridi matrix: ',tridi_matrix_4)\n",
    "print('tridi solution: ',tridi_solution_4)"
   ]
  },
  {
   "cell_type": "code",
   "execution_count": 14,
   "metadata": {},
   "outputs": [
    {
     "name": "stderr",
     "output_type": "stream",
     "text": [
      "/var/folders/yh/cycxl0_j42bb7_1dhcyz1syh0000gn/T/ipykernel_8007/3863912831.py:5: DeprecationWarning: The TridiagonalToeplitz class is deprecated as of Qiskit Terra 0.22.0 and will be removed no sooner than 3 months after the release date. \n",
      "  tridi_matrix_5 = TridiagonalToeplitz(num_state_qubits_5, 1, -1 / 3)\n",
      "/var/folders/yh/cycxl0_j42bb7_1dhcyz1syh0000gn/T/ipykernel_8007/3863912831.py:6: DeprecationWarning: The HHL class is deprecated as of Qiskit Terra 0.22.0 and will be removed\n",
      "        no sooner than 3 months after the release date.\n",
      "        It is replaced by the tutorial at https://qiskit.org/textbook/ch-applications/hhl_tutorial.html\"\n",
      "        \n",
      "  tridi_solution_5 = HHL().solve(tridi_matrix_5, vector_5)\n"
     ]
    },
    {
     "ename": "ValueError",
     "evalue": "'to_matrix' will return an exponentially large vector, in this case '131072' elements. Set algorithm_globals.massive=True or the method argument massive=True if you want to proceed.",
     "output_type": "error",
     "traceback": [
      "\u001b[0;31m---------------------------------------------------------------------------\u001b[0m",
      "\u001b[0;31mValueError\u001b[0m                                Traceback (most recent call last)",
      "Cell \u001b[0;32mIn[14], line 6\u001b[0m\n\u001b[1;32m      3\u001b[0m vector_5 \u001b[38;5;241m=\u001b[39m np\u001b[38;5;241m.\u001b[39marray([\u001b[38;5;241m1\u001b[39m, \u001b[38;5;241m0\u001b[39m, \u001b[38;5;241m0\u001b[39m, \u001b[38;5;241m0\u001b[39m, \u001b[38;5;241m0\u001b[39m, \u001b[38;5;241m0\u001b[39m, \u001b[38;5;241m0\u001b[39m ,\u001b[38;5;241m0\u001b[39m, \u001b[38;5;241m0\u001b[39m, \u001b[38;5;241m0\u001b[39m, \u001b[38;5;241m0\u001b[39m, \u001b[38;5;241m0\u001b[39m, \u001b[38;5;241m0\u001b[39m, \u001b[38;5;241m0\u001b[39m, \u001b[38;5;241m0\u001b[39m, \u001b[38;5;241m0\u001b[39m, \u001b[38;5;241m0\u001b[39m, \u001b[38;5;241m0\u001b[39m, \u001b[38;5;241m0\u001b[39m, \u001b[38;5;241m0\u001b[39m, \u001b[38;5;241m0\u001b[39m, \u001b[38;5;241m0\u001b[39m, \u001b[38;5;241m0\u001b[39m, \u001b[38;5;241m0\u001b[39m, \u001b[38;5;241m0\u001b[39m, \u001b[38;5;241m0\u001b[39m, \u001b[38;5;241m0\u001b[39m, \u001b[38;5;241m0\u001b[39m, \u001b[38;5;241m0\u001b[39m, \u001b[38;5;241m0\u001b[39m, \u001b[38;5;241m0\u001b[39m, \u001b[38;5;241m0\u001b[39m])\n\u001b[1;32m      5\u001b[0m tridi_matrix_5 \u001b[38;5;241m=\u001b[39m TridiagonalToeplitz(num_state_qubits_5, \u001b[38;5;241m1\u001b[39m, \u001b[38;5;241m-\u001b[39m\u001b[38;5;241m1\u001b[39m \u001b[38;5;241m/\u001b[39m \u001b[38;5;241m3\u001b[39m)\n\u001b[0;32m----> 6\u001b[0m tridi_solution_5 \u001b[38;5;241m=\u001b[39m \u001b[43mHHL\u001b[49m\u001b[43m(\u001b[49m\u001b[43m)\u001b[49m\u001b[38;5;241;43m.\u001b[39;49m\u001b[43msolve\u001b[49m\u001b[43m(\u001b[49m\u001b[43mtridi_matrix_5\u001b[49m\u001b[43m,\u001b[49m\u001b[43m \u001b[49m\u001b[43mvector_5\u001b[49m\u001b[43m)\u001b[49m\n\u001b[1;32m      8\u001b[0m \u001b[38;5;28mprint\u001b[39m(\u001b[38;5;124m'\u001b[39m\u001b[38;5;124mtridi matrix: \u001b[39m\u001b[38;5;124m'\u001b[39m,tridi_matrix_5)\n\u001b[1;32m      9\u001b[0m \u001b[38;5;28mprint\u001b[39m(\u001b[38;5;124m'\u001b[39m\u001b[38;5;124mtridi solution: \u001b[39m\u001b[38;5;124m'\u001b[39m,tridi_solution_5)\n",
      "File \u001b[0;32m~/UIMPIntroToQuantumAI/.conda/lib/python3.10/site-packages/qiskit/algorithms/linear_solvers/hhl.py:541\u001b[0m, in \u001b[0;36mHHL.solve\u001b[0;34m(self, matrix, vector, observable, observable_circuit, post_processing)\u001b[0m\n\u001b[1;32m    539\u001b[0m solution \u001b[38;5;241m=\u001b[39m LinearSolverResult()\n\u001b[1;32m    540\u001b[0m solution\u001b[38;5;241m.\u001b[39mstate \u001b[38;5;241m=\u001b[39m \u001b[38;5;28mself\u001b[39m\u001b[38;5;241m.\u001b[39mconstruct_circuit(matrix, vector)\n\u001b[0;32m--> 541\u001b[0m solution\u001b[38;5;241m.\u001b[39meuclidean_norm \u001b[38;5;241m=\u001b[39m \u001b[38;5;28;43mself\u001b[39;49m\u001b[38;5;241;43m.\u001b[39;49m\u001b[43m_calculate_norm\u001b[49m\u001b[43m(\u001b[49m\u001b[43msolution\u001b[49m\u001b[38;5;241;43m.\u001b[39;49m\u001b[43mstate\u001b[49m\u001b[43m)\u001b[49m\n\u001b[1;32m    543\u001b[0m \u001b[38;5;28;01mif\u001b[39;00m observable \u001b[38;5;129;01mis\u001b[39;00m \u001b[38;5;129;01mnot\u001b[39;00m \u001b[38;5;28;01mNone\u001b[39;00m \u001b[38;5;129;01mor\u001b[39;00m observable_circuit \u001b[38;5;129;01mis\u001b[39;00m \u001b[38;5;129;01mnot\u001b[39;00m \u001b[38;5;28;01mNone\u001b[39;00m:\n\u001b[1;32m    544\u001b[0m     solution\u001b[38;5;241m.\u001b[39mobservable, solution\u001b[38;5;241m.\u001b[39mcircuit_results \u001b[38;5;241m=\u001b[39m \u001b[38;5;28mself\u001b[39m\u001b[38;5;241m.\u001b[39m_calculate_observable(\n\u001b[1;32m    545\u001b[0m         solution\u001b[38;5;241m.\u001b[39mstate, observable, observable_circuit, post_processing\n\u001b[1;32m    546\u001b[0m     )\n",
      "File \u001b[0;32m~/UIMPIntroToQuantumAI/.conda/lib/python3.10/site-packages/qiskit/algorithms/linear_solvers/hhl.py:236\u001b[0m, in \u001b[0;36mHHL._calculate_norm\u001b[0;34m(self, qc)\u001b[0m\n\u001b[1;32m    234\u001b[0m \u001b[38;5;66;03m# Norm observable\u001b[39;00m\n\u001b[1;32m    235\u001b[0m observable \u001b[38;5;241m=\u001b[39m one_op \u001b[38;5;241m^\u001b[39m TensoredOp((nl \u001b[38;5;241m+\u001b[39m na) \u001b[38;5;241m*\u001b[39m [zero_op]) \u001b[38;5;241m^\u001b[39m (I \u001b[38;5;241m^\u001b[39m nb)\n\u001b[0;32m--> 236\u001b[0m norm_2 \u001b[38;5;241m=\u001b[39m \u001b[43m(\u001b[49m\u001b[38;5;241;43m~\u001b[39;49m\u001b[43mStateFn\u001b[49m\u001b[43m(\u001b[49m\u001b[43mobservable\u001b[49m\u001b[43m)\u001b[49m\u001b[43m \u001b[49m\u001b[38;5;241;43m@\u001b[39;49m\u001b[43m \u001b[49m\u001b[43mStateFn\u001b[49m\u001b[43m(\u001b[49m\u001b[43mqc\u001b[49m\u001b[43m)\u001b[49m\u001b[43m)\u001b[49m\u001b[38;5;241;43m.\u001b[39;49m\u001b[43meval\u001b[49m\u001b[43m(\u001b[49m\u001b[43m)\u001b[49m\n\u001b[1;32m    238\u001b[0m \u001b[38;5;28;01mreturn\u001b[39;00m np\u001b[38;5;241m.\u001b[39mreal(np\u001b[38;5;241m.\u001b[39msqrt(norm_2) \u001b[38;5;241m/\u001b[39m \u001b[38;5;28mself\u001b[39m\u001b[38;5;241m.\u001b[39mscaling)\n",
      "File \u001b[0;32m~/UIMPIntroToQuantumAI/.conda/lib/python3.10/site-packages/qiskit/opflow/list_ops/composed_op.py:156\u001b[0m, in \u001b[0;36mComposedOp.eval\u001b[0;34m(self, front)\u001b[0m\n\u001b[1;32m    153\u001b[0m \u001b[38;5;28;01melif\u001b[39;00m front:\n\u001b[1;32m    154\u001b[0m     eval_list \u001b[38;5;241m=\u001b[39m [StateFn(front, is_measurement\u001b[38;5;241m=\u001b[39m\u001b[38;5;28;01mTrue\u001b[39;00m)] \u001b[38;5;241m+\u001b[39m eval_list  \u001b[38;5;66;03m# type: ignore\u001b[39;00m\n\u001b[0;32m--> 156\u001b[0m \u001b[38;5;28;01mreturn\u001b[39;00m \u001b[43mreduce\u001b[49m\u001b[43m(\u001b[49m\u001b[43mtree_recursive_eval\u001b[49m\u001b[43m,\u001b[49m\u001b[43m \u001b[49m\u001b[38;5;28;43mreversed\u001b[39;49m\u001b[43m(\u001b[49m\u001b[43meval_list\u001b[49m\u001b[43m)\u001b[49m\u001b[43m)\u001b[49m\n",
      "File \u001b[0;32m~/UIMPIntroToQuantumAI/.conda/lib/python3.10/site-packages/qiskit/opflow/list_ops/composed_op.py:146\u001b[0m, in \u001b[0;36mComposedOp.eval.<locals>.tree_recursive_eval\u001b[0;34m(r, l_arg)\u001b[0m\n\u001b[1;32m    144\u001b[0m     \u001b[38;5;28;01mreturn\u001b[39;00m [tree_recursive_eval(r_op, l_arg) \u001b[38;5;28;01mfor\u001b[39;00m r_op \u001b[38;5;129;01min\u001b[39;00m r]\n\u001b[1;32m    145\u001b[0m \u001b[38;5;28;01melse\u001b[39;00m:\n\u001b[0;32m--> 146\u001b[0m     \u001b[38;5;28;01mreturn\u001b[39;00m \u001b[43ml_arg\u001b[49m\u001b[38;5;241;43m.\u001b[39;49m\u001b[43meval\u001b[49m\u001b[43m(\u001b[49m\u001b[43mr\u001b[49m\u001b[43m)\u001b[49m\n",
      "File \u001b[0;32m~/UIMPIntroToQuantumAI/.conda/lib/python3.10/site-packages/qiskit/opflow/state_fns/operator_state_fn.py:249\u001b[0m, in \u001b[0;36mOperatorStateFn.eval\u001b[0;34m(self, front)\u001b[0m\n\u001b[1;32m    246\u001b[0m \u001b[38;5;66;03m# If we evaluate against a circuit, evaluate it to a vector so we\u001b[39;00m\n\u001b[1;32m    247\u001b[0m \u001b[38;5;66;03m# make sure to only do the expensive circuit simulation once\u001b[39;00m\n\u001b[1;32m    248\u001b[0m \u001b[38;5;28;01mif\u001b[39;00m \u001b[38;5;28misinstance\u001b[39m(front, CircuitStateFn):\n\u001b[0;32m--> 249\u001b[0m     front \u001b[38;5;241m=\u001b[39m \u001b[43mfront\u001b[49m\u001b[38;5;241;43m.\u001b[39;49m\u001b[43meval\u001b[49m\u001b[43m(\u001b[49m\u001b[43m)\u001b[49m\n\u001b[1;32m    251\u001b[0m \u001b[38;5;28;01mreturn\u001b[39;00m front\u001b[38;5;241m.\u001b[39madjoint()\u001b[38;5;241m.\u001b[39meval(cast(OperatorBase, \u001b[38;5;28mself\u001b[39m\u001b[38;5;241m.\u001b[39mprimitive\u001b[38;5;241m.\u001b[39meval(front))) \u001b[38;5;241m*\u001b[39m \u001b[38;5;28mself\u001b[39m\u001b[38;5;241m.\u001b[39mcoeff\n",
      "File \u001b[0;32m~/UIMPIntroToQuantumAI/.conda/lib/python3.10/site-packages/qiskit/opflow/state_fns/circuit_state_fn.py:308\u001b[0m, in \u001b[0;36mCircuitStateFn.eval\u001b[0;34m(self, front)\u001b[0m\n\u001b[1;32m    301\u001b[0m \u001b[38;5;28;01mdef\u001b[39;00m\u001b[38;5;250m \u001b[39m\u001b[38;5;21meval\u001b[39m(\n\u001b[1;32m    302\u001b[0m     \u001b[38;5;28mself\u001b[39m,\n\u001b[1;32m    303\u001b[0m     front: Optional[\n\u001b[1;32m    304\u001b[0m         Union[\u001b[38;5;28mstr\u001b[39m, Dict[\u001b[38;5;28mstr\u001b[39m, \u001b[38;5;28mcomplex\u001b[39m], np\u001b[38;5;241m.\u001b[39mndarray, OperatorBase, Statevector]\n\u001b[1;32m    305\u001b[0m     ] \u001b[38;5;241m=\u001b[39m \u001b[38;5;28;01mNone\u001b[39;00m,\n\u001b[1;32m    306\u001b[0m ) \u001b[38;5;241m-\u001b[39m\u001b[38;5;241m>\u001b[39m Union[OperatorBase, \u001b[38;5;28mcomplex\u001b[39m]:\n\u001b[1;32m    307\u001b[0m     \u001b[38;5;28;01mif\u001b[39;00m front \u001b[38;5;129;01mis\u001b[39;00m \u001b[38;5;28;01mNone\u001b[39;00m:\n\u001b[0;32m--> 308\u001b[0m         vector_state_fn \u001b[38;5;241m=\u001b[39m \u001b[38;5;28;43mself\u001b[39;49m\u001b[38;5;241;43m.\u001b[39;49m\u001b[43mto_matrix_op\u001b[49m\u001b[43m(\u001b[49m\u001b[43m)\u001b[49m\u001b[38;5;241m.\u001b[39meval()\n\u001b[1;32m    309\u001b[0m         \u001b[38;5;28;01mreturn\u001b[39;00m vector_state_fn\n\u001b[1;32m    311\u001b[0m     \u001b[38;5;28;01mif\u001b[39;00m \u001b[38;5;129;01mnot\u001b[39;00m \u001b[38;5;28mself\u001b[39m\u001b[38;5;241m.\u001b[39mis_measurement \u001b[38;5;129;01mand\u001b[39;00m \u001b[38;5;28misinstance\u001b[39m(front, OperatorBase):\n",
      "File \u001b[0;32m~/UIMPIntroToQuantumAI/.conda/lib/python3.10/site-packages/qiskit/opflow/state_fns/state_fn.py:429\u001b[0m, in \u001b[0;36mStateFn.to_matrix_op\u001b[0;34m(self, massive)\u001b[0m\n\u001b[1;32m    426\u001b[0m \u001b[38;5;66;03m# pylint: disable=cyclic-import\u001b[39;00m\n\u001b[1;32m    427\u001b[0m \u001b[38;5;28;01mfrom\u001b[39;00m\u001b[38;5;250m \u001b[39m\u001b[38;5;21;01m.\u001b[39;00m\u001b[38;5;21;01mvector_state_fn\u001b[39;00m\u001b[38;5;250m \u001b[39m\u001b[38;5;28;01mimport\u001b[39;00m VectorStateFn\n\u001b[0;32m--> 429\u001b[0m \u001b[38;5;28;01mreturn\u001b[39;00m VectorStateFn(\u001b[38;5;28;43mself\u001b[39;49m\u001b[38;5;241;43m.\u001b[39;49m\u001b[43mto_matrix\u001b[49m\u001b[43m(\u001b[49m\u001b[43mmassive\u001b[49m\u001b[38;5;241;43m=\u001b[39;49m\u001b[43mmassive\u001b[49m\u001b[43m)\u001b[49m, is_measurement\u001b[38;5;241m=\u001b[39m\u001b[38;5;28mself\u001b[39m\u001b[38;5;241m.\u001b[39mis_measurement)\n",
      "File \u001b[0;32m~/UIMPIntroToQuantumAI/.conda/lib/python3.10/site-packages/qiskit/opflow/state_fns/circuit_state_fn.py:252\u001b[0m, in \u001b[0;36mCircuitStateFn.to_matrix\u001b[0;34m(self, massive)\u001b[0m\n\u001b[1;32m    251\u001b[0m \u001b[38;5;28;01mdef\u001b[39;00m\u001b[38;5;250m \u001b[39m\u001b[38;5;21mto_matrix\u001b[39m(\u001b[38;5;28mself\u001b[39m, massive: \u001b[38;5;28mbool\u001b[39m \u001b[38;5;241m=\u001b[39m \u001b[38;5;28;01mFalse\u001b[39;00m) \u001b[38;5;241m-\u001b[39m\u001b[38;5;241m>\u001b[39m np\u001b[38;5;241m.\u001b[39mndarray:\n\u001b[0;32m--> 252\u001b[0m     \u001b[43mOperatorBase\u001b[49m\u001b[38;5;241;43m.\u001b[39;49m\u001b[43m_check_massive\u001b[49m\u001b[43m(\u001b[49m\u001b[38;5;124;43m\"\u001b[39;49m\u001b[38;5;124;43mto_matrix\u001b[39;49m\u001b[38;5;124;43m\"\u001b[39;49m\u001b[43m,\u001b[49m\u001b[43m \u001b[49m\u001b[38;5;28;43;01mFalse\u001b[39;49;00m\u001b[43m,\u001b[49m\u001b[43m \u001b[49m\u001b[38;5;28;43mself\u001b[39;49m\u001b[38;5;241;43m.\u001b[39;49m\u001b[43mnum_qubits\u001b[49m\u001b[43m,\u001b[49m\u001b[43m \u001b[49m\u001b[43mmassive\u001b[49m\u001b[43m)\u001b[49m\n\u001b[1;32m    254\u001b[0m     \u001b[38;5;66;03m# Need to adjoint to get forward statevector and then reverse\u001b[39;00m\n\u001b[1;32m    255\u001b[0m     \u001b[38;5;28;01mif\u001b[39;00m \u001b[38;5;28mself\u001b[39m\u001b[38;5;241m.\u001b[39mis_measurement:\n",
      "File \u001b[0;32m~/UIMPIntroToQuantumAI/.conda/lib/python3.10/site-packages/qiskit/opflow/operator_base.py:497\u001b[0m, in \u001b[0;36mOperatorBase._check_massive\u001b[0;34m(method, matrix, num_qubits, massive)\u001b[0m\n\u001b[1;32m    495\u001b[0m     obj_type \u001b[38;5;241m=\u001b[39m \u001b[38;5;124m\"\u001b[39m\u001b[38;5;124mvector\u001b[39m\u001b[38;5;124m\"\u001b[39m\n\u001b[1;32m    496\u001b[0m     dimensions \u001b[38;5;241m=\u001b[39m \u001b[38;5;124mf\u001b[39m\u001b[38;5;124m\"\u001b[39m\u001b[38;5;132;01m{\u001b[39;00mdim\u001b[38;5;132;01m}\u001b[39;00m\u001b[38;5;124m\"\u001b[39m\n\u001b[0;32m--> 497\u001b[0m \u001b[38;5;28;01mraise\u001b[39;00m \u001b[38;5;167;01mValueError\u001b[39;00m(\n\u001b[1;32m    498\u001b[0m     \u001b[38;5;124mf\u001b[39m\u001b[38;5;124m\"\u001b[39m\u001b[38;5;124m'\u001b[39m\u001b[38;5;132;01m{\u001b[39;00mmethod\u001b[38;5;132;01m}\u001b[39;00m\u001b[38;5;124m'\u001b[39m\u001b[38;5;124m will return an exponentially large \u001b[39m\u001b[38;5;132;01m{\u001b[39;00mobj_type\u001b[38;5;132;01m}\u001b[39;00m\u001b[38;5;124m, \u001b[39m\u001b[38;5;124m\"\u001b[39m\n\u001b[1;32m    499\u001b[0m     \u001b[38;5;124mf\u001b[39m\u001b[38;5;124m\"\u001b[39m\u001b[38;5;124min this case \u001b[39m\u001b[38;5;124m'\u001b[39m\u001b[38;5;132;01m{\u001b[39;00mdimensions\u001b[38;5;132;01m}\u001b[39;00m\u001b[38;5;124m'\u001b[39m\u001b[38;5;124m elements. \u001b[39m\u001b[38;5;124m\"\u001b[39m\n\u001b[1;32m    500\u001b[0m     \u001b[38;5;124m\"\u001b[39m\u001b[38;5;124mSet algorithm_globals.massive=True or the method argument massive=True \u001b[39m\u001b[38;5;124m\"\u001b[39m\n\u001b[1;32m    501\u001b[0m     \u001b[38;5;124m\"\u001b[39m\u001b[38;5;124mif you want to proceed.\u001b[39m\u001b[38;5;124m\"\u001b[39m\n\u001b[1;32m    502\u001b[0m )\n",
      "\u001b[0;31mValueError\u001b[0m: 'to_matrix' will return an exponentially large vector, in this case '131072' elements. Set algorithm_globals.massive=True or the method argument massive=True if you want to proceed."
     ]
    }
   ],
   "source": [
    "## Assignment HHL\n",
    "# When num_state_qubits=5 can NOT be simulate in this machine, at the end details of the processor.\n",
    "num_state_qubits_5=5\n",
    "\n",
    "vector_5 = np.array([1, 0, 0, 0, 0, 0, 0 ,0, 0, 0, 0, 0, 0, 0, 0, 0, 0, 0, 0, 0, 0, 0, 0, 0, 0, 0, 0, 0, 0, 0, 0, 0])\n",
    "\n",
    "tridi_matrix_5 = TridiagonalToeplitz(num_state_qubits_5, 1, -1 / 3)\n",
    "tridi_solution_5 = HHL().solve(tridi_matrix_5, vector_5)\n",
    "\n",
    "print('tridi matrix: ',tridi_matrix_5)\n",
    "print('tridi solution: ',tridi_solution_5)\n",
    "\n",
    "# For num_state_qubits_5=5 is too large for this computer"
   ]
  },
  {
   "cell_type": "markdown",
   "metadata": {},
   "source": [
    "Recall that the HHL algorithm can find a solution exponentially faster in the size of the system than their classical counterparts (i.e. logarithmic complexity instead of polynomial). However the cost for this exponential speedup is that we do not obtain the full solution vector.\n",
    "Instead, we obtain a quantum state representing the vector $x$ and learning all the components of this vector would take a linear time in its dimension, diminishing any speedup obtained by the quantum algorithm.\n",
    "\n",
    "Therefore, we can only compute functions from $x$ (the so called observables) to learn information about the solution.\n",
    "This is reflected in the `LinearSolverResult` object returned by `solve()`, which contains the following properties\n",
    "- `state`: either the circuit that prepares the solution or the solution as a vector\n",
    "- `euclidean_norm`: the euclidean norm if the algorithm knows how to calculate it \n",
    "- `observable`: the (list of) calculated observable(s)\n",
    "- `circuit_results`: the observable results from the (list of) circuit(s)\n",
    "\n",
    "Let's ignore `observable` and `circuit_results` for the time being and check the solutions we obtained before.\n",
    "\n",
    "First, `classical_solution` was the result from a classical algorithm, so if we call `.state` it will return an array:"
   ]
  },
  {
   "cell_type": "code",
   "execution_count": 4,
   "metadata": {},
   "outputs": [
    {
     "name": "stdout",
     "output_type": "stream",
     "text": [
      "classical state: [1.125 0.375]\n"
     ]
    }
   ],
   "source": [
    "print('classical state:', classical_solution.state)"
   ]
  },
  {
   "cell_type": "markdown",
   "metadata": {},
   "source": [
    "Our other two examples were quantum algorithms, hence we can only access to the quantum state. This is achieved by returning the quantum circuit that prepares the solution state:"
   ]
  },
  {
   "cell_type": "code",
   "execution_count": 5,
   "metadata": {},
   "outputs": [
    {
     "name": "stdout",
     "output_type": "stream",
     "text": [
      "naive state:\n",
      "      ┌────────────┐┌──────┐        ┌─────────┐\n",
      "  q4: ┤ circuit-94 ├┤3     ├────────┤3        ├\n",
      "      └────────────┘│      │┌──────┐│         │\n",
      "q5_0: ──────────────┤0     ├┤2     ├┤0        ├\n",
      "                    │  QPE ││      ││  QPE_dg │\n",
      "q5_1: ──────────────┤1     ├┤1     ├┤1        ├\n",
      "                    │      ││  1/x ││         │\n",
      "q5_2: ──────────────┤2     ├┤0     ├┤2        ├\n",
      "                    └──────┘│      │└─────────┘\n",
      "  q6: ──────────────────────┤3     ├───────────\n",
      "                            └──────┘           \n",
      "tridiagonal state:\n",
      "       ┌─────────────┐┌──────┐        ┌─────────┐\n",
      "  q26: ┤ circuit-307 ├┤3     ├────────┤3        ├\n",
      "       └─────────────┘│      │┌──────┐│         │\n",
      "q27_0: ───────────────┤0     ├┤2     ├┤0        ├\n",
      "                      │  QPE ││      ││  QPE_dg │\n",
      "q27_1: ───────────────┤1     ├┤1     ├┤1        ├\n",
      "                      │      ││  1/x ││         │\n",
      "q27_2: ───────────────┤2     ├┤0     ├┤2        ├\n",
      "                      └──────┘│      │└─────────┘\n",
      "  q28: ───────────────────────┤3     ├───────────\n",
      "                              └──────┘           \n"
     ]
    }
   ],
   "source": [
    "# The code below depicts quantum states by giving explicit \n",
    "# quantum circuits that prepare such states. It uses the Qiskit HHL class\n",
    "\n",
    "print('naive state:')\n",
    "print(naive_hhl_solution.state)\n",
    "\n",
    "print('tridiagonal state:')\n",
    "print(tridi_solution.state)"
   ]
  },
  {
   "cell_type": "markdown",
   "metadata": {},
   "source": [
    "Recall that the Euclidean norm for a vector $\\mathbf{x}=(x_1,\\dots,x_N)$ is defined as $||\\mathbf{x}||=\\sqrt{\\sum_{i=1}^N x_i^2}$. Therefore, the probability of measuring $1$ in the auxiliary qubit from Step $5$ in Section B is the squared norm of $\\mathbf{x}$. This means that the HHL algorithm can always calculate the euclidean norm of the solution and we can compare the accuracy of the results:"
   ]
  },
  {
   "cell_type": "code",
   "execution_count": 14,
   "metadata": {},
   "outputs": [
    {
     "name": "stdout",
     "output_type": "stream",
     "text": [
      "classical Euclidean norm: 1.1858541225631423\n",
      "naive Euclidean norm: 1.1858541225631383\n",
      "tridiagonal Euclidean norm: 1.1858541225631367\n"
     ]
    }
   ],
   "source": [
    "print('classical Euclidean norm:', classical_solution.euclidean_norm)\n",
    "print('naive Euclidean norm:', naive_hhl_solution.euclidean_norm)\n",
    "print('tridiagonal Euclidean norm:', tridi_solution.euclidean_norm)"
   ]
  },
  {
   "cell_type": "markdown",
   "metadata": {},
   "source": [
    "Comparing the solution vectors component-wise is more tricky, reflecting again the idea that we cannot obtain the full solution vector from the quantum algorithm. However, for educational purposes we can check that indeed the different solution vectors obtained are a good approximation at the vector component level as well. \n",
    "\n",
    "To do so first we need to use `Statevector` from the `quantum_info` package and extract the right vector components, i.e. those corresponding to the ancillary qubit (bottom in the circuits) being $1$ and the work qubits (the two middle in the circuits) being $0$. Thus, we are interested in the states `10000` and `10001`, corresponding to the first and second components of the solution vector respectively."
   ]
  },
  {
   "cell_type": "code",
   "execution_count": 15,
   "metadata": {},
   "outputs": [
    {
     "name": "stdout",
     "output_type": "stream",
     "text": [
      "naive raw solution vector: [0.75+3.55149157e-16j 0.25+2.36995154e-16j]\n",
      "tridi raw solution vector: [0.75-3.33656672e-17j 0.25+3.87715431e-16j]\n"
     ]
    }
   ],
   "source": [
    "from qiskit.quantum_info import Statevector\n",
    "\n",
    "naive_sv = Statevector(naive_hhl_solution.state).data\n",
    "tridi_sv = Statevector(tridi_solution.state).data\n",
    "\n",
    "# Extract vector components; 10000(bin) == 16 & 10001(bin) == 17\n",
    "naive_full_vector = np.array([naive_sv[16], naive_sv[17]])\n",
    "tridi_full_vector = np.array([tridi_sv[16], tridi_sv[17]])\n",
    "\n",
    "print('naive raw solution vector:', naive_full_vector)\n",
    "print('tridi raw solution vector:', tridi_full_vector)"
   ]
  },
  {
   "cell_type": "markdown",
   "metadata": {},
   "source": [
    "At a first glance it might seem that this is wrong because the components are complex numbers instead of reals. However note that the imaginary part is very small, most likely due to computer accuracy, and can be disregarded in this case (we'll use the array's `.real` attribute to get the real part).\n",
    "\n",
    "Next, we will divide the vectors by their respective norms to suppress any constants coming from the different parts of the circuits. The full solution vector can then be recovered by multiplying these normalised vectors by the respective Euclidean norms calculated above:"
   ]
  },
  {
   "cell_type": "code",
   "execution_count": 16,
   "metadata": {},
   "outputs": [
    {
     "name": "stdout",
     "output_type": "stream",
     "text": [
      "full naive solution vector: [1.125 0.375]\n",
      "full tridi solution vector: [1.125 0.375]\n",
      "classical state: [1.125 0.375]\n"
     ]
    }
   ],
   "source": [
    "def get_solution_vector(solution):\n",
    "    \"\"\"Extracts and normalizes simulated state vector\n",
    "    from LinearSolverResult.\"\"\"\n",
    "    solution_vector = Statevector(solution.state).data[16:18].real\n",
    "    norm = solution.euclidean_norm\n",
    "    return norm * solution_vector / np.linalg.norm(solution_vector)\n",
    "\n",
    "print('full naive solution vector:', get_solution_vector(naive_hhl_solution))\n",
    "print('full tridi solution vector:', get_solution_vector(tridi_solution))\n",
    "print('classical state:', classical_solution.state)"
   ]
  },
  {
   "cell_type": "markdown",
   "metadata": {},
   "source": [
    "It should not come as a surprise that `naive_hhl_solution` is exact because all the default methods used are exact. However, `tridi_solution` is exact only in the $2\\times 2$ system size case. For larger matrices it will be an approximation, as shown in the slightly larger example below."
   ]
  },
  {
   "cell_type": "code",
   "execution_count": 17,
   "metadata": {},
   "outputs": [
    {
     "name": "stderr",
     "output_type": "stream",
     "text": [
      "/var/folders/yh/cycxl0_j42bb7_1dhcyz1syh0000gn/T/ipykernel_22345/3455507905.py:19: DeprecationWarning: The NumPyLinearSolver class is deprecated as of Qiskit Terra 0.22.0 and will be removed no sooner than 3 months after the release date. \n",
      "  classical_solution = NumPyLinearSolver(\n",
      "/var/folders/yh/cycxl0_j42bb7_1dhcyz1syh0000gn/T/ipykernel_22345/3455507905.py:22: DeprecationWarning: The HHL class is deprecated as of Qiskit Terra 0.22.0 and will be removed\n",
      "        no sooner than 3 months after the release date.\n",
      "        It is replaced by the tutorial at https://qiskit.org/textbook/ch-applications/hhl_tutorial.html\"\n",
      "        \n",
      "  naive_hhl_solution = HHL().solve(matrix, vector)\n",
      "/Users/rocio/UIMPIntroToQuantumAI/.conda/lib/python3.10/site-packages/numpy/linalg/linalg.py:2154: RuntimeWarning: divide by zero encountered in det\n",
      "  r = _umath_linalg.det(a, signature=signature)\n",
      "/Users/rocio/UIMPIntroToQuantumAI/.conda/lib/python3.10/site-packages/numpy/linalg/linalg.py:2154: RuntimeWarning: invalid value encountered in det\n",
      "  r = _umath_linalg.det(a, signature=signature)\n",
      "/var/folders/yh/cycxl0_j42bb7_1dhcyz1syh0000gn/T/ipykernel_22345/3455507905.py:24: DeprecationWarning: The TridiagonalToeplitz class is deprecated as of Qiskit Terra 0.22.0 and will be removed no sooner than 3 months after the release date. \n",
      "  tridi_matrix = TridiagonalToeplitz(NUM_QUBITS, a, b)\n",
      "/var/folders/yh/cycxl0_j42bb7_1dhcyz1syh0000gn/T/ipykernel_22345/3455507905.py:25: DeprecationWarning: The HHL class is deprecated as of Qiskit Terra 0.22.0 and will be removed\n",
      "        no sooner than 3 months after the release date.\n",
      "        It is replaced by the tutorial at https://qiskit.org/textbook/ch-applications/hhl_tutorial.html\"\n",
      "        \n",
      "  tridi_solution = HHL().solve(tridi_matrix, vector)\n"
     ]
    },
    {
     "name": "stdout",
     "output_type": "stream",
     "text": [
      "classical euclidean norm: 1.237833351044751\n",
      "naive euclidean norm: 1.2099806231118972\n",
      "tridiagonal euclidean norm: 1.209457721870527\n"
     ]
    }
   ],
   "source": [
    "from scipy.sparse import diags\n",
    "\n",
    "NUM_QUBITS = 2\n",
    "MATRIX_SIZE = 2 ** NUM_QUBITS\n",
    "# entries of the tridiagonal Toeplitz symmetric matrix\n",
    "# pylint: disable=invalid-name\n",
    "a = 1\n",
    "b = -1/3\n",
    "\n",
    "\n",
    "matrix = diags([b, a, b],\n",
    "               [-1, 0, 1],\n",
    "               shape=(MATRIX_SIZE, MATRIX_SIZE)).toarray()\n",
    "\n",
    "vector = np.array([1] + [0]*(MATRIX_SIZE - 1))\n",
    "\n",
    "# run the algorithms\n",
    "\n",
    "classical_solution = NumPyLinearSolver(\n",
    "                        ).solve(matrix, vector / np.linalg.norm(vector))\n",
    "\n",
    "naive_hhl_solution = HHL().solve(matrix, vector)\n",
    "\n",
    "tridi_matrix = TridiagonalToeplitz(NUM_QUBITS, a, b)\n",
    "tridi_solution = HHL().solve(tridi_matrix, vector)\n",
    "\n",
    "print('classical euclidean norm:', classical_solution.euclidean_norm)\n",
    "print('naive euclidean norm:', naive_hhl_solution.euclidean_norm)\n",
    "print('tridiagonal euclidean norm:', tridi_solution.euclidean_norm)"
   ]
  },
  {
   "cell_type": "markdown",
   "metadata": {},
   "source": [
    "We can also compare the difference in resources from the exact method and the efficient implementation. The $2\\times 2$ system size is again special in that the exact algorithm requires less resources, but as we increase the system size, we can see that indeed the exact method scales exponentially in the number of qubits while `TridiagonalToeplitz` is polynomial."
   ]
  },
  {
   "cell_type": "code",
   "execution_count": 18,
   "metadata": {},
   "outputs": [
    {
     "name": "stderr",
     "output_type": "stream",
     "text": [
      "/var/folders/yh/cycxl0_j42bb7_1dhcyz1syh0000gn/T/ipykernel_22345/817375534.py:35: DeprecationWarning: The HHL class is deprecated as of Qiskit Terra 0.22.0 and will be removed\n",
      "        no sooner than 3 months after the release date.\n",
      "        It is replaced by the tutorial at https://qiskit.org/textbook/ch-applications/hhl_tutorial.html\"\n",
      "        \n",
      "  naive_hhl_solution = HHL().solve(matrix, vector)\n",
      "/var/folders/yh/cycxl0_j42bb7_1dhcyz1syh0000gn/T/ipykernel_22345/817375534.py:36: DeprecationWarning: The TridiagonalToeplitz class is deprecated as of Qiskit Terra 0.22.0 and will be removed no sooner than 3 months after the release date. \n",
      "  tridi_matrix = TridiagonalToeplitz(n_qubits, a, b)\n",
      "/var/folders/yh/cycxl0_j42bb7_1dhcyz1syh0000gn/T/ipykernel_22345/817375534.py:37: DeprecationWarning: The HHL class is deprecated as of Qiskit Terra 0.22.0 and will be removed\n",
      "        no sooner than 3 months after the release date.\n",
      "        It is replaced by the tutorial at https://qiskit.org/textbook/ch-applications/hhl_tutorial.html\"\n",
      "        \n",
      "  tridi_solution = HHL().solve(tridi_matrix, vector)\n"
     ]
    }
   ],
   "source": [
    "from qiskit import transpile\n",
    "from qiskit.utils import algorithm_globals\n",
    "\n",
    "#Global Variable algorithm_globals.massive\n",
    "# Default value False \n",
    "# Set algorithm_globals.massive=True for large qubit numbers (be careful, it can generate exponentially large vectors)\n",
    "algorithm_globals.massive=True \n",
    "\n",
    "# Default value is 4, change for doing estimations with larger qubit numbers.\n",
    "# Be careful with large system sizes:\n",
    "\n",
    "#   a) The naive_hhl is more accurate yet requires very large circuit sizes.\n",
    "#   For large qubit numbers, you may only be able to use the tridiagonal method.\n",
    "\n",
    "#   b) For large qubit numbers, exonentially large matrices will be generated. \n",
    "#   By default, Qiskit limits large qubit numbers to be used to prevent memory issues.\n",
    "#   To change this, you must set the global vairable (see above) algorithm_globals.massive=True\n",
    "\n",
    "MAX_QUBITS = 4\n",
    "a = 1\n",
    "b = -1/3\n",
    "\n",
    "i = 1\n",
    "# calculate the circuit depths for different number of qubits to compare the use\n",
    "# of resources (WARNING: This will take a while to execute)\n",
    "naive_depths = []\n",
    "tridi_depths = []\n",
    "\n",
    "for n_qubits in range(1, MAX_QUBITS+1):\n",
    "    matrix = diags([b, a, b],\n",
    "                   [-1, 0, 1],\n",
    "                   shape=(2**n_qubits, 2**n_qubits)).toarray()\n",
    "    vector = np.array([1] + [0]*(2**n_qubits -1))\n",
    "\n",
    "    naive_hhl_solution = HHL().solve(matrix, vector)\n",
    "    tridi_matrix = TridiagonalToeplitz(n_qubits, a, b)\n",
    "    tridi_solution = HHL().solve(tridi_matrix, vector)\n",
    "\n",
    "    naive_qc = transpile(naive_hhl_solution.state,\n",
    "                         basis_gates=['id', 'rz', 'sx', 'x', 'cx'])\n",
    "    tridi_qc = transpile(tridi_solution.state,\n",
    "                         basis_gates=['id', 'rz', 'sx', 'x', 'cx'])\n",
    "    naive_depths.append(naive_qc.depth())\n",
    "    tridi_depths.append(tridi_qc.depth())\n",
    "    i +=1"
   ]
  },
  {
   "cell_type": "code",
   "execution_count": 19,
   "metadata": {},
   "outputs": [
    {
     "name": "stdout",
     "output_type": "stream",
     "text": [
      "     size of the system                    2×2                    4×4                    8×8\n",
      "   tridi_solution depth                    565                   5107                  14756\n"
     ]
    }
   ],
   "source": [
    "sizes = [f\"{2**n_qubits}×{2**n_qubits}\"\n",
    "         for n_qubits in range(1, MAX_QUBITS+1)]\n",
    "columns = ['size of the system',\n",
    "   #        'quantum_solution depth',\n",
    "           'tridi_solution depth']\n",
    "data = np.array([sizes, #naive_depths, \n",
    "                 tridi_depths])\n",
    "ROW_FORMAT =\"{:>23}\" * (len(columns) + 2)\n",
    "for team, row in zip(columns, data):\n",
    "    print(ROW_FORMAT.format(team, *row))"
   ]
  },
  {
   "cell_type": "markdown",
   "metadata": {},
   "source": [
    "The reason the implementation still seems to need exponential resources is because the current conditioned rotation implementation (step 3 from Section 2.B) is exact (i.e. needs exponential resources in $n_l$). Instead we can calculate how many more resources the default implementation needs compared to Tridiagonal - since they only differ in how they implement $e^{iAt}$:"
   ]
  },
  {
   "cell_type": "code",
   "execution_count": 20,
   "metadata": {},
   "outputs": [
    {
     "name": "stdout",
     "output_type": "stream",
     "text": [
      "excess: [-231, -2529, 18416, 303041]\n"
     ]
    }
   ],
   "source": [
    "print('excess:',\n",
    "      [naive_depths[i] - tridi_depths[i] for i in range(0, len(naive_depths))])"
   ]
  },
  {
   "cell_type": "markdown",
   "metadata": {},
   "source": [
    "In the near future the plan is to integrate `qiskit.circuit.library.arithmetics.PiecewiseChebyshev` to obtain a polynomial implementation of the conditioned rotation as well.\n",
    "\n",
    "### Estimation of observables\n",
    "\n",
    "Now we can return to the topic of observables and find out what the `observable` and `circuit_results` properties contain.\n",
    "\n",
    "The way to compute functions of the solution vector $\\mathbf{x}$ is through giving the `.solve()` method a `LinearSystemObservable` as input. There are two types of available `LinearSystemObservable` which can be given as input:"
   ]
  },
  {
   "cell_type": "markdown",
   "metadata": {},
   "source": [
    "#### Average of vector entries"
   ]
  },
  {
   "cell_type": "markdown",
   "metadata": {},
   "source": [
    "For a vector $\\mathbf{x}=(x_1,...,x_N)$, the $AbsoluteAverage$ observable computes $|\\frac{1}{N}\\sum_{i=1}^{N}x_i|$"
   ]
  },
  {
   "cell_type": "code",
   "execution_count": 21,
   "metadata": {},
   "outputs": [
    {
     "name": "stderr",
     "output_type": "stream",
     "text": [
      "/var/folders/yh/cycxl0_j42bb7_1dhcyz1syh0000gn/T/ipykernel_22345/3200718449.py:13: DeprecationWarning: The TridiagonalToeplitz class is deprecated as of Qiskit Terra 0.22.0 and will be removed no sooner than 3 months after the release date. \n",
      "  tridi_matrix = TridiagonalToeplitz(1, a, b)\n",
      "/var/folders/yh/cycxl0_j42bb7_1dhcyz1syh0000gn/T/ipykernel_22345/3200718449.py:15: DeprecationWarning: The HHL class is deprecated as of Qiskit Terra 0.22.0 and will be removed\n",
      "        no sooner than 3 months after the release date.\n",
      "        It is replaced by the tutorial at https://qiskit.org/textbook/ch-applications/hhl_tutorial.html\"\n",
      "        \n",
      "  average_solution = HHL().solve(tridi_matrix,\n",
      "/var/folders/yh/cycxl0_j42bb7_1dhcyz1syh0000gn/T/ipykernel_22345/3200718449.py:17: DeprecationWarning: The AbsoluteAverage class is deprecated as of Qiskit Terra 0.22.0 and will be removed no sooner than 3 months after the release date. \n",
      "  AbsoluteAverage())\n"
     ]
    },
    {
     "name": "stdout",
     "output_type": "stream",
     "text": [
      "quantum average: 0.7499999999999963\n",
      "classical average: 0.75\n",
      "quantum circuit results: (0.4999999999999952+0j)\n"
     ]
    },
    {
     "name": "stderr",
     "output_type": "stream",
     "text": [
      "/var/folders/yh/cycxl0_j42bb7_1dhcyz1syh0000gn/T/ipykernel_22345/3200718449.py:18: DeprecationWarning: The NumPyLinearSolver class is deprecated as of Qiskit Terra 0.22.0 and will be removed no sooner than 3 months after the release date. \n",
      "  classical_average = NumPyLinearSolver(\n",
      "/var/folders/yh/cycxl0_j42bb7_1dhcyz1syh0000gn/T/ipykernel_22345/3200718449.py:21: DeprecationWarning: The AbsoluteAverage class is deprecated as of Qiskit Terra 0.22.0 and will be removed no sooner than 3 months after the release date. \n",
      "  AbsoluteAverage())\n"
     ]
    }
   ],
   "source": [
    "from qiskit.algorithms.linear_solvers.observables import AbsoluteAverage, MatrixFunctional\n",
    "\n",
    "NUM_QUBITS = 1\n",
    "MATRIX_SIZE = 2 ** NUM_QUBITS\n",
    "# entries of the tridiagonal Toeplitz symmetric matrix\n",
    "a = 1\n",
    "b = -1/3\n",
    "\n",
    "matrix = diags([b, a, b],\n",
    "               [-1, 0, 1],\n",
    "               shape=(MATRIX_SIZE, MATRIX_SIZE)).toarray()\n",
    "vector = np.array([1] + [0]*(MATRIX_SIZE - 1))\n",
    "tridi_matrix = TridiagonalToeplitz(1, a, b)\n",
    "\n",
    "average_solution = HHL().solve(tridi_matrix,\n",
    "                               vector,\n",
    "                               AbsoluteAverage())\n",
    "classical_average = NumPyLinearSolver(\n",
    "                        ).solve(matrix,\n",
    "                                vector / np.linalg.norm(vector),\n",
    "                                AbsoluteAverage())\n",
    "\n",
    "print('quantum average:', average_solution.observable)\n",
    "print('classical average:', classical_average.observable)\n",
    "print('quantum circuit results:', average_solution.circuit_results)"
   ]
  },
  {
   "cell_type": "markdown",
   "metadata": {},
   "source": [
    "#### More general observables\n",
    "\n",
    "The `MatrixFunctional` observable computes $\\mathbf{x}^T B \\mathbf{x}$ for a vector $\\mathbf{x}$ and a tridiagonal symmetric Toeplitz matrix $B$. The class takes the main and off diagonal values of the matrix for its constructor method."
   ]
  },
  {
   "cell_type": "code",
   "execution_count": 22,
   "metadata": {},
   "outputs": [
    {
     "name": "stderr",
     "output_type": "stream",
     "text": [
      "/var/folders/yh/cycxl0_j42bb7_1dhcyz1syh0000gn/T/ipykernel_22345/1700665276.py:4: DeprecationWarning: The MatrixFunctional class is deprecated as of Qiskit Terra 0.22.0 and will be removed no sooner than 3 months after the release date. \n",
      "  observable = MatrixFunctional(1, 1 / 2)\n",
      "/var/folders/yh/cycxl0_j42bb7_1dhcyz1syh0000gn/T/ipykernel_22345/1700665276.py:6: DeprecationWarning: The HHL class is deprecated as of Qiskit Terra 0.22.0 and will be removed\n",
      "        no sooner than 3 months after the release date.\n",
      "        It is replaced by the tutorial at https://qiskit.org/textbook/ch-applications/hhl_tutorial.html\"\n",
      "        \n",
      "  functional_solution = HHL().solve(tridi_matrix, vector, observable)\n"
     ]
    },
    {
     "name": "stdout",
     "output_type": "stream",
     "text": [
      "quantum functional: 1.8281249999999825\n",
      "classical functional: 1.828125\n",
      "quantum circuit results: [(0.6249999999999941+0j), (0.4999999999999952+0j), (0.1249999999999988+0j)]\n"
     ]
    },
    {
     "name": "stderr",
     "output_type": "stream",
     "text": [
      "/var/folders/yh/cycxl0_j42bb7_1dhcyz1syh0000gn/T/ipykernel_22345/1700665276.py:7: DeprecationWarning: The NumPyLinearSolver class is deprecated as of Qiskit Terra 0.22.0 and will be removed no sooner than 3 months after the release date. \n",
      "  classical_functional = NumPyLinearSolver(\n"
     ]
    }
   ],
   "source": [
    "# Doc MatrixFunctional https://docs.quantum.ibm.com/api/qiskit/0.37/qiskit.algorithms.linear_solvers.MatrixFunctional\n",
    "# class MatrixFunctional(main_diag, off_diag)\n",
    "\n",
    "observable = MatrixFunctional(1, 1 / 2)\n",
    "\n",
    "functional_solution = HHL().solve(tridi_matrix, vector, observable)\n",
    "classical_functional = NumPyLinearSolver(\n",
    "                          ).solve(matrix,\n",
    "                                  vector / np.linalg.norm(vector),\n",
    "                                  observable)\n",
    "\n",
    "print('quantum functional:', functional_solution.observable)\n",
    "print('classical functional:', classical_functional.observable)\n",
    "print('quantum circuit results:', functional_solution.circuit_results)"
   ]
  },
  {
   "cell_type": "markdown",
   "metadata": {},
   "source": [
    "Therefore, `observable` contains the final value of the function on $\\mathbf{x}$, while `circuit_results` contains the raw values obtained from the circuit and used to process the result of `observable`.\n",
    "\n",
    "This 'how to process the result' is better explained by looking at what arguments `.solve()` takes. The `solve()` method accepts up to five arguments: \n",
    "```python\n",
    "def solve(self, matrix: Union[np.ndarray, QuantumCircuit],\n",
    "          vector: Union[np.ndarray, QuantumCircuit],\n",
    "          observable: Optional[Union[LinearSystemObservable, BaseOperator,\n",
    "                                     List[BaseOperator]]] = None,\n",
    "          post_rotation: Optional[Union[QuantumCircuit, List[QuantumCircuit]]] = None,\n",
    "          post_processing: Optional[Callable[[Union[float, List[float]]],\n",
    "                                             Union[float, List[float]]]] = None) \\\n",
    "        -> LinearSolverResult:\n",
    "```\n",
    "The first two are the matrix defining the linear system and the vector right hand side of the equation, which we have already covered. The remaining parameters concern the (list of) observable(s) to be computed out of the solution vector $x$, and can be specified in two different ways. One option is to give as the third and last parameter a (list of) `LinearSystemObservable`(s). Alternatively, we can give our own implementations of the `observable`, `post_rotation` and `post_processing`, where\n",
    "- `observable` is the operator to compute the expected value of the observable and can be e.g. a `PauliSumOp`\n",
    "- `post_rotation` is the circuit to be applied to the solution to extract information if additional gates are needed.\n",
    "- `post_processing` is the function to compute the value of the observable from the calculated probabilities.\n",
    "\n",
    "In other words, there will be as many `circuit_results` as `post_rotation` circuits, and `post_processing` is telling the algorithm how to use the values we see when we print `circuit_results` to obtain the value we see when we print `observable`.\n",
    "\n",
    "Finally, the `HHL` class accepts the following parameters in its constructor method:\n",
    "- error tolerance : the accuracy of the approximation of the solution, the default is `1e-2`\n",
    "- expectation : how the expectation values are evaluated, the default is `PauliExpectation`\n",
    "- quantum instance: the `QuantumInstance` or backend, the default is a `Statevector` simulation"
   ]
  },
  {
   "cell_type": "code",
   "execution_count": 23,
   "metadata": {},
   "outputs": [
    {
     "name": "stderr",
     "output_type": "stream",
     "text": [
      "/var/folders/yh/cycxl0_j42bb7_1dhcyz1syh0000gn/T/ipykernel_22345/1762359573.py:4: DeprecationWarning: The HHL class is deprecated as of Qiskit Terra 0.22.0 and will be removed\n",
      "        no sooner than 3 months after the release date.\n",
      "        It is replaced by the tutorial at https://qiskit.org/textbook/ch-applications/hhl_tutorial.html\"\n",
      "        \n",
      "  hhl = HHL(1e-3, quantum_instance=backend)\n"
     ]
    },
    {
     "name": "stdout",
     "output_type": "stream",
     "text": [
      "1.1858541225631383\n",
      "1.1858541225631423\n"
     ]
    },
    {
     "name": "stderr",
     "output_type": "stream",
     "text": [
      "/var/folders/yh/cycxl0_j42bb7_1dhcyz1syh0000gn/T/ipykernel_22345/1762359573.py:7: DeprecationWarning: The NumPyLinearSolver class is deprecated as of Qiskit Terra 0.22.0 and will be removed no sooner than 3 months after the release date. \n",
      "  classical_solution = NumPyLinearSolver(\n"
     ]
    }
   ],
   "source": [
    "from qiskit import Aer\n",
    "\n",
    "backend = Aer.get_backend('aer_simulator')\n",
    "hhl = HHL(1e-3, quantum_instance=backend)\n",
    "\n",
    "accurate_solution = hhl.solve(matrix, vector)\n",
    "classical_solution = NumPyLinearSolver(\n",
    "                    ).solve(matrix,\n",
    "                            vector / np.linalg.norm(vector))\n",
    "\n",
    "print(accurate_solution.euclidean_norm)\n",
    "print(classical_solution.euclidean_norm)"
   ]
  },
  {
   "cell_type": "markdown",
   "metadata": {},
   "source": [
    "## 8. References<a id='references'></a>\n",
    "\n",
    "<!-- vale off -->\n",
    "\n",
    "1. J. R. Shewchuk. An Introduction to the Conjugate Gradient Method Without the Agonizing Pain. Technical Report CMU-CS-94-125, School of Computer Science, Carnegie Mellon University, Pittsburgh, Pennsylvania, March 1994.<a id='conjgrad'></a> \n",
    "2. A. W. Harrow, A. Hassidim, and S. Lloyd, “Quantum algorithm for linear systems of equations,” Phys. Rev. Lett. 103.15 (2009), p. 150502.<a id='hhl'></a>\n",
    "3. A. Dewes, F. R. Ong, V. Schmitt, R. Lauro, N. Boulant, P. Bertet, D. Vion, and D. Esteve, “Characterization of a two-transmon processor with individual single-shot qubit readout,” Phys. Rev. Lett. 108, 057002 (2012). <a id='readouterr'></a>\n",
    "4. N. Stamatopoulos, D. J. Egger, Y. Sun, C. Zoufal, R. Iten, N. Shen, and S. Woerner, “Option Pricing using Quantum Computers,” arXiv:1905.02666 . <a id='richardson'></a>\n",
    "5. A. Carrera Vazquez, A. Frisch, D. Steenken, H. S. Barowski, R. Hiptmair, and S. Woerner, “Enhancing Quantum Linear System Algorithm by Richardson Extrapolation,” ACM Trans. Quantum Comput. 3 (2022).<a id='tridi'></a>\n",
    "6. R. Iten, O. Reardon-Smith, L. Mondada, E. Redmond, R. Singh Kohli, R. Colbeck, “Introduction to UniversalQCompiler,” arXiv:1904.01072 .<a id='qcompiler'></a>\n",
    "7. https://quantum-computing.ibm.com/ .<a id='qexperience'></a>\n",
    "8. D. Bucher, J. Mueggenburg, G. Kus, I. Haide, S. Deutschle, H. Barowski, D. Steenken, A. Frisch, \"Qiskit Aqua: Solving linear systems of equations with the HHL algorithm\" https://github.com/Qiskit/qiskit-tutorials/blob/master/legacy_tutorials/aqua/linear_systems_of_equations.ipynb"
   ]
  },
  {
   "cell_type": "code",
   "execution_count": 24,
   "metadata": {},
   "outputs": [
    {
     "name": "stderr",
     "output_type": "stream",
     "text": [
      "/Users/rocio/UIMPIntroToQuantumAI/.conda/lib/python3.10/site-packages/qiskit/tools/jupyter/__init__.py:132: RuntimeWarning: matplotlib can't be found, ensure you have matplotlib and other visualization dependencies installed. You can run '!pip install qiskit-terra[visualization]' to install it from jupyter\n",
      "  warnings.warn(\n"
     ]
    },
    {
     "data": {
      "text/html": [
       "<h3>Version Information</h3><table><tr><th>Qiskit Software</th><th>Version</th></tr><tr><td><code>qiskit-terra</code></td><td>0.23.0</td></tr><tr><td><code>qiskit-aer</code></td><td>0.11.2</td></tr><tr><td><code>qiskit-ibmq-provider</code></td><td>0.19.2</td></tr><tr><td><code>qiskit</code></td><td>0.40.0</td></tr><tr><th>System information</th></tr><tr><td>Python version</td><td>3.10.16</td></tr><tr><td>Python compiler</td><td>Clang 18.1.8 </td></tr><tr><td>Python build</td><td>main, Dec  5 2024 14:20:01</td></tr><tr><td>OS</td><td>Darwin</td></tr><tr><td>CPUs</td><td>8</td></tr><tr><td>Memory (Gb)</td><td>8.0</td></tr><tr><td colspan='2'>Wed Jan 08 23:21:58 2025 -05</td></tr></table>"
      ],
      "text/plain": [
       "<IPython.core.display.HTML object>"
      ]
     },
     "metadata": {},
     "output_type": "display_data"
    }
   ],
   "source": [
    "# pylint: disable=unused-import\n",
    "import qiskit.tools.jupyter\n",
    "%qiskit_version_table"
   ]
  }
 ],
 "metadata": {
  "kernelspec": {
   "display_name": "Python 3",
   "language": "python",
   "name": "python3"
  },
  "language_info": {
   "codemirror_mode": {
    "name": "ipython",
    "version": 3
   },
   "file_extension": ".py",
   "mimetype": "text/x-python",
   "name": "python",
   "nbconvert_exporter": "python",
   "pygments_lexer": "ipython3",
   "version": "3.10.16"
  }
 },
 "nbformat": 4,
 "nbformat_minor": 2
}
